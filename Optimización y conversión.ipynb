{
 "cells": [
  {
   "cell_type": "markdown",
   "id": "9e6eb446-2fe9-4006-b51d-9865dce104ed",
   "metadata": {},
   "source": [
    "# Proyecto Análisis de eficiencia operativa en la empresa telefónica CallMeMaybe"
   ]
  },
  {
   "cell_type": "markdown",
   "id": "5b0e383e-b975-41e1-825a-8cf2e44bf81c",
   "metadata": {},
   "source": [
    "# Link Dashboard "
   ]
  },
  {
   "cell_type": "markdown",
   "id": "6511fa87-2fa9-473e-ba15-0344dccf15f7",
   "metadata": {},
   "source": [
    "https://public.tableau.com/app/profile/aim.e.dom.nguez/viz/ProyectofinalSprint14DashboardMonitordeOperadoresyComportamientodeLlamadas/Dashboard1#1"
   ]
  },
  {
   "cell_type": "markdown",
   "id": "e3857d23-3be3-43a0-8be4-ea800c90d4c6",
   "metadata": {},
   "source": [
    "# Link Presentación del Proyecto"
   ]
  },
  {
   "cell_type": "markdown",
   "id": "a7d3283b-4d1b-422c-937b-357930995c60",
   "metadata": {},
   "source": [
    "https://drive.google.com/file/d/1wNZYSlIfECnsNkAlxUJPQMF8N_H7LzuA/view?usp=drive_link"
   ]
  },
  {
   "cell_type": "markdown",
   "id": "8efc2ba7-62e8-4a18-98bd-217c90b038e0",
   "metadata": {},
   "source": [
    "# Tabla de contenido\n",
    "1. [Introducción al Proyecto](#Introduccción-al-Proyecto)\n",
    "2. [Objetivos específicos](#Objetivos-específicos)\n",
    "3. [Etapas de análisis del proyecto](#Etapas-de-análisis-del-proyecto)\n",
    "4. [Preparación de  datos](#Preparación-de-datos)\n",
    "5. [Análisis Exploratorio de Datos (EDA)](#Análisis-Exploratorio-de-Datos-(EDA)))\n",
    "6. [Definición de Ineficacia](#Definición-de-Ineficacia)\n",
    "7. [Prueba de Hipótesis Estadísticas](#Prueba-de-Hipótesis-Estadísticas)\n",
    "8. [Conclusiones y recomendaciones](#Conclusiones-y-recomendaciones)\n",
    "9. [Fuentes Consultadas](#Fuentes-Consultadas)"
   ]
  },
  {
   "attachments": {},
   "cell_type": "markdown",
   "id": "df2b5ae6-ae4b-41c8-a570-28add44fb084",
   "metadata": {},
   "source": [
    "# Introducción al Proyecto \n",
    "La empresa CallMeMaybe busca mejorar la calidad de su servicio de telefonía virtual al identificar operadores ineficaces dentro de sus equipos. Un operador ineficaz se caracteriza por altos niveles de ineficiencia, como grandes cantidades de llamadas perdidas (entrantes e internas), tiempos de espera prolongados y, en el caso de operadores asignados a realizar llamadas salientes, bajos volúmenes de dichas llamadas. Este análisis tiene como objetivo proporcionar información clave que permita a los supervisores optimizar el desempeño de los operadores, mejorando la experiencia de los clientes finales.\r\n",
    "\r\n",
    "A través de un análisis exhaustivo de los datos históricos proporcionados por CallMeMaybe, se identificarán patrones y métricas clave para evaluar la eficacia de los operadores. Esto permitirá realizar un diagnóstico preciso de las áreas dmee jo mejora y respaldar decisiones estratégicas basadas en evidencias.os"
   ]
  },
  {
   "cell_type": "markdown",
   "id": "96c943cb-9100-4c98-a29b-b812f9468dea",
   "metadata": {},
   "source": [
    "# Objetivos específicos\n",
    "\n",
    "**1.Realizar un análisis exploratorio de datos (EDA)** para comprender las características principales de las llamadas y operadores dentro de la red CallMeMaybe.\n",
    "\n",
    "**2.Identificar operadores ineficaces** basándose en métricas clave como cantidad de llamadas perdidas, tiempos de espera prolongados y número insuficiente de llamadas salientes (cuando aplique).\n",
    "\n",
    "**3.Validar hipótesis estadísticas** sobre factores relacionados con la eficacia de los operadores, como la relación entre tiempos de espera y llamadas perdidas, o la influencia de las características del cliente en la distribución de las llamadas."
   ]
  },
  {
   "cell_type": "markdown",
   "id": "f64d743c-8ee0-4b77-a267-b235d18e6cad",
   "metadata": {},
   "source": [
    "# Etapas de análisis del proyecto\n",
    "\n",
    "**1.Preparación de Datos**\n",
    "\n",
    "Importar librerías necesarias para ejecutar el proyecto y los datasets requeridos (telecom_dataset_us.csv y telecom_clients_us.csv).\n",
    "\n",
    "El conjunto de datos ('telecom_dataset_us.csv') contiene las siguientes columnas:\n",
    "- 'user_id': ID de la cuenta de cliente\n",
    "- 'date': fecha en la que se recuperaron las estadísticas\n",
    "- 'direction': \"dirección\" de llamada (`out` para saliente, `in` para entrante)\n",
    "- 'internal': si la llamada fue interna (entre los operadores de un cliente o clienta)\n",
    "- 'operator_id': identificador del operador\n",
    "- 'is_missed_call': si fue una llamada perdida\n",
    "- 'calls_count': número de llamadas\n",
    "- 'call_duration': duración de la llamada (sin incluir el tiempo de espera)\n",
    "- 'total_call_duration': duración de la llamada (incluido el tiempo de espera)\n",
    "\n",
    "El conjunto de datos ('telecom_clients_us.csv') tiene las siguientes columnas:\n",
    "\n",
    "- 'user_id': ID de usuario/a\n",
    "- 'tariff_plan': tarifa actual de la clientela\n",
    "- 'date_start': fecha de registro de la clientla\n",
    "\n",
    "**2.Análisis Exploratorio de Datos (EDA)**\n",
    "\n",
    "Identificar valores nulos, duplicados y realizar la limpieza de datos.\n",
    "Estandarizar formatos de columnas (fechas, categorías, IDs).\n",
    "Describir las principales métricas de los operadores: número total de llamadas, promedio de duración, tiempo de espera, porcentaje de llamadas perdidas.\n",
    "Identificar patrones generales, como la distribución de llamadas por operador.\n",
    "\n",
    "**3.Definición de Ineficacia**\n",
    "\n",
    "Definir umbrales claros para determinar la ineficacia de un operador:\n",
    "Porcentaje de llamadas perdidas alto (>X%).\n",
    "Tiempo promedio de espera elevado (>X segundos).\n",
    "Volumen bajo de llamadas salientes para operadores asignados a esta tarea.\n",
    "Agrupar operadores con base en su desempeño.\n",
    "\n",
    "**4.Prueba de Hipótesis Estadísticas**\n",
    "\n",
    "Evaluar si los tiempos de espera influyen en el porcentaje de llamadas perdidas.\n",
    "Analizar si las características del cliente (plan tarifario, antigüedad) afectan el desempeño de los operadores.\n",
    "\n",
    "**5.Conclusiones y recomendaciones del Proyecto Final**\n",
    "\n",
    "Conclusiones del Proyecto y estrategias para mejorar el desempeño general de los operadores.\n",
    "\n",
    "**6.Fuentes Consultadas**\n",
    "\n",
    "Documentación, artículos, reportes que sustenten el proyecto.\n",
    "\n",
    "**7.Visualización y Reporte**\n",
    "\n",
    "Generar gráficos y tablas para ilustrar las métricas clave y los resultados del análisis, hacer un dashboard.\n",
    "Crear una presentación en PDF del Proyecto Final.\n"
   ]
  },
  {
   "cell_type": "markdown",
   "id": "7bcb2d18-bf95-4386-bc75-2657a071b262",
   "metadata": {},
   "source": [
    "# Preparación de  datos"
   ]
  },
  {
   "cell_type": "markdown",
   "id": "de8e9f02-19db-4b05-84bd-3ad2ac5904bf",
   "metadata": {},
   "source": [
    "**Inicialización**"
   ]
  },
  {
   "cell_type": "code",
   "execution_count": 1,
   "id": "8e96140e-a9a4-4d50-931e-daf1e604c239",
   "metadata": {},
   "outputs": [],
   "source": [
    "import pandas as pd\n",
    "import numpy as np\n",
    "import matplotlib.pyplot as plt\n",
    "import seaborn as sns\n",
    "import scipy.stats as stats\n",
    "from datetime import datetime"
   ]
  },
  {
   "cell_type": "markdown",
   "id": "4f83664a-dc34-44e8-be8e-b2473ed0637b",
   "metadata": {},
   "source": [
    "**Cargar los datos**"
   ]
  },
  {
   "cell_type": "code",
   "execution_count": 2,
   "id": "834dd80e-2a86-4e36-901a-2f41448f1e16",
   "metadata": {},
   "outputs": [],
   "source": [
    "clientes = pd.read_csv('telecom_clients_us.csv')"
   ]
  },
  {
   "cell_type": "code",
   "execution_count": 3,
   "id": "9c5c110a-39e1-43a2-a3ed-9d3c7945bc60",
   "metadata": {},
   "outputs": [],
   "source": [
    "dataset = pd.read_csv('telecom_dataset_us.csv')"
   ]
  },
  {
   "cell_type": "markdown",
   "id": "038e8674-a541-4733-845e-5b41899a9472",
   "metadata": {},
   "source": [
    "# Análisis Exploratorio de Datos (EDA)"
   ]
  },
  {
   "cell_type": "markdown",
   "id": "4b9cc572-27fa-45c7-93d8-dd063bc71e6f",
   "metadata": {},
   "source": [
    "**Conjunto de datos: clientes**"
   ]
  },
  {
   "cell_type": "code",
   "execution_count": 4,
   "id": "a07275c9-e2b7-46d7-9df0-e3c7c90c510e",
   "metadata": {},
   "outputs": [
    {
     "name": "stdout",
     "output_type": "stream",
     "text": [
      "<class 'pandas.core.frame.DataFrame'>\n",
      "RangeIndex: 732 entries, 0 to 731\n",
      "Data columns (total 3 columns):\n",
      " #   Column       Non-Null Count  Dtype \n",
      "---  ------       --------------  ----- \n",
      " 0   user_id      732 non-null    int64 \n",
      " 1   tariff_plan  732 non-null    object\n",
      " 2   date_start   732 non-null    object\n",
      "dtypes: int64(1), object(2)\n",
      "memory usage: 17.3+ KB\n"
     ]
    }
   ],
   "source": [
    "clientes.info()"
   ]
  },
  {
   "cell_type": "code",
   "execution_count": 5,
   "id": "97a4f6c5-8366-4e13-8a07-828899f81ca2",
   "metadata": {},
   "outputs": [
    {
     "data": {
      "text/html": [
       "<div>\n",
       "<style scoped>\n",
       "    .dataframe tbody tr th:only-of-type {\n",
       "        vertical-align: middle;\n",
       "    }\n",
       "\n",
       "    .dataframe tbody tr th {\n",
       "        vertical-align: top;\n",
       "    }\n",
       "\n",
       "    .dataframe thead th {\n",
       "        text-align: right;\n",
       "    }\n",
       "</style>\n",
       "<table border=\"1\" class=\"dataframe\">\n",
       "  <thead>\n",
       "    <tr style=\"text-align: right;\">\n",
       "      <th></th>\n",
       "      <th>user_id</th>\n",
       "      <th>tariff_plan</th>\n",
       "      <th>date_start</th>\n",
       "    </tr>\n",
       "  </thead>\n",
       "  <tbody>\n",
       "    <tr>\n",
       "      <th>0</th>\n",
       "      <td>166713</td>\n",
       "      <td>A</td>\n",
       "      <td>2019-08-15</td>\n",
       "    </tr>\n",
       "    <tr>\n",
       "      <th>1</th>\n",
       "      <td>166901</td>\n",
       "      <td>A</td>\n",
       "      <td>2019-08-23</td>\n",
       "    </tr>\n",
       "    <tr>\n",
       "      <th>2</th>\n",
       "      <td>168527</td>\n",
       "      <td>A</td>\n",
       "      <td>2019-10-29</td>\n",
       "    </tr>\n",
       "    <tr>\n",
       "      <th>3</th>\n",
       "      <td>167097</td>\n",
       "      <td>A</td>\n",
       "      <td>2019-09-01</td>\n",
       "    </tr>\n",
       "    <tr>\n",
       "      <th>4</th>\n",
       "      <td>168193</td>\n",
       "      <td>A</td>\n",
       "      <td>2019-10-16</td>\n",
       "    </tr>\n",
       "  </tbody>\n",
       "</table>\n",
       "</div>"
      ],
      "text/plain": [
       "   user_id tariff_plan  date_start\n",
       "0   166713           A  2019-08-15\n",
       "1   166901           A  2019-08-23\n",
       "2   168527           A  2019-10-29\n",
       "3   167097           A  2019-09-01\n",
       "4   168193           A  2019-10-16"
      ]
     },
     "execution_count": 5,
     "metadata": {},
     "output_type": "execute_result"
    }
   ],
   "source": [
    "clientes.head()"
   ]
  },
  {
   "cell_type": "code",
   "execution_count": 6,
   "id": "f89a6c37-f518-4168-8919-0a867a79f385",
   "metadata": {},
   "outputs": [
    {
     "data": {
      "text/plain": [
       "user_id        0\n",
       "tariff_plan    0\n",
       "date_start     0\n",
       "dtype: int64"
      ]
     },
     "execution_count": 6,
     "metadata": {},
     "output_type": "execute_result"
    }
   ],
   "source": [
    "clientes.isna().sum()"
   ]
  },
  {
   "cell_type": "code",
   "execution_count": 7,
   "id": "2e90512d-84da-48fb-8a4b-5395de57d3ab",
   "metadata": {},
   "outputs": [
    {
     "data": {
      "text/plain": [
       "0"
      ]
     },
     "execution_count": 7,
     "metadata": {},
     "output_type": "execute_result"
    }
   ],
   "source": [
    "clientes.duplicated().sum()"
   ]
  },
  {
   "cell_type": "code",
   "execution_count": 8,
   "id": "16e12be3-444b-454c-95a3-2d47d2e10490",
   "metadata": {},
   "outputs": [],
   "source": [
    "clientes['date_start'] = pd.to_datetime(clientes['date_start'], format = '%Y-%m-%d')"
   ]
  },
  {
   "cell_type": "code",
   "execution_count": 9,
   "id": "93c8a984-f92d-462c-aa50-71b08831d6dc",
   "metadata": {},
   "outputs": [
    {
     "name": "stdout",
     "output_type": "stream",
     "text": [
      "<class 'pandas.core.frame.DataFrame'>\n",
      "RangeIndex: 732 entries, 0 to 731\n",
      "Data columns (total 3 columns):\n",
      " #   Column       Non-Null Count  Dtype         \n",
      "---  ------       --------------  -----         \n",
      " 0   user_id      732 non-null    int64         \n",
      " 1   tariff_plan  732 non-null    object        \n",
      " 2   date_start   732 non-null    datetime64[ns]\n",
      "dtypes: datetime64[ns](1), int64(1), object(1)\n",
      "memory usage: 17.3+ KB\n"
     ]
    }
   ],
   "source": [
    "clientes.info()"
   ]
  },
  {
   "cell_type": "code",
   "execution_count": 10,
   "id": "be24796e-ca5b-40b7-9f05-4b31bf3db6eb",
   "metadata": {},
   "outputs": [
    {
     "data": {
      "text/html": [
       "<div>\n",
       "<style scoped>\n",
       "    .dataframe tbody tr th:only-of-type {\n",
       "        vertical-align: middle;\n",
       "    }\n",
       "\n",
       "    .dataframe tbody tr th {\n",
       "        vertical-align: top;\n",
       "    }\n",
       "\n",
       "    .dataframe thead th {\n",
       "        text-align: right;\n",
       "    }\n",
       "</style>\n",
       "<table border=\"1\" class=\"dataframe\">\n",
       "  <thead>\n",
       "    <tr style=\"text-align: right;\">\n",
       "      <th></th>\n",
       "      <th>user_id</th>\n",
       "      <th>date_start</th>\n",
       "    </tr>\n",
       "  </thead>\n",
       "  <tbody>\n",
       "    <tr>\n",
       "      <th>count</th>\n",
       "      <td>732.000000</td>\n",
       "      <td>732</td>\n",
       "    </tr>\n",
       "    <tr>\n",
       "      <th>mean</th>\n",
       "      <td>167431.927596</td>\n",
       "      <td>2019-09-14 16:39:20.655737600</td>\n",
       "    </tr>\n",
       "    <tr>\n",
       "      <th>min</th>\n",
       "      <td>166373.000000</td>\n",
       "      <td>2019-08-01 00:00:00</td>\n",
       "    </tr>\n",
       "    <tr>\n",
       "      <th>25%</th>\n",
       "      <td>166900.750000</td>\n",
       "      <td>2019-08-23 00:00:00</td>\n",
       "    </tr>\n",
       "    <tr>\n",
       "      <th>50%</th>\n",
       "      <td>167432.000000</td>\n",
       "      <td>2019-09-16 00:00:00</td>\n",
       "    </tr>\n",
       "    <tr>\n",
       "      <th>75%</th>\n",
       "      <td>167973.000000</td>\n",
       "      <td>2019-10-08 00:00:00</td>\n",
       "    </tr>\n",
       "    <tr>\n",
       "      <th>max</th>\n",
       "      <td>168606.000000</td>\n",
       "      <td>2019-10-31 00:00:00</td>\n",
       "    </tr>\n",
       "    <tr>\n",
       "      <th>std</th>\n",
       "      <td>633.810383</td>\n",
       "      <td>NaN</td>\n",
       "    </tr>\n",
       "  </tbody>\n",
       "</table>\n",
       "</div>"
      ],
      "text/plain": [
       "             user_id                     date_start\n",
       "count     732.000000                            732\n",
       "mean   167431.927596  2019-09-14 16:39:20.655737600\n",
       "min    166373.000000            2019-08-01 00:00:00\n",
       "25%    166900.750000            2019-08-23 00:00:00\n",
       "50%    167432.000000            2019-09-16 00:00:00\n",
       "75%    167973.000000            2019-10-08 00:00:00\n",
       "max    168606.000000            2019-10-31 00:00:00\n",
       "std       633.810383                            NaN"
      ]
     },
     "execution_count": 10,
     "metadata": {},
     "output_type": "execute_result"
    }
   ],
   "source": [
    "clientes.describe()"
   ]
  },
  {
   "cell_type": "markdown",
   "id": "3175299d-d3be-4f12-b0c7-db61e44a2193",
   "metadata": {},
   "source": [
    "**Conjunto de datos: dataset**"
   ]
  },
  {
   "cell_type": "code",
   "execution_count": 11,
   "id": "d5bd7ec9-7f83-477a-8a95-9ee300ef44c5",
   "metadata": {},
   "outputs": [
    {
     "name": "stdout",
     "output_type": "stream",
     "text": [
      "<class 'pandas.core.frame.DataFrame'>\n",
      "RangeIndex: 53902 entries, 0 to 53901\n",
      "Data columns (total 9 columns):\n",
      " #   Column               Non-Null Count  Dtype  \n",
      "---  ------               --------------  -----  \n",
      " 0   user_id              53902 non-null  int64  \n",
      " 1   date                 53902 non-null  object \n",
      " 2   direction            53902 non-null  object \n",
      " 3   internal             53785 non-null  object \n",
      " 4   operator_id          45730 non-null  float64\n",
      " 5   is_missed_call       53902 non-null  bool   \n",
      " 6   calls_count          53902 non-null  int64  \n",
      " 7   call_duration        53902 non-null  int64  \n",
      " 8   total_call_duration  53902 non-null  int64  \n",
      "dtypes: bool(1), float64(1), int64(4), object(3)\n",
      "memory usage: 3.3+ MB\n"
     ]
    }
   ],
   "source": [
    "dataset.info()"
   ]
  },
  {
   "cell_type": "code",
   "execution_count": 12,
   "id": "c1cbea95-5a95-4612-adf1-d038ba47b3dd",
   "metadata": {},
   "outputs": [],
   "source": [
    "dataset['date'] = pd.to_datetime(dataset['date'])"
   ]
  },
  {
   "cell_type": "code",
   "execution_count": 13,
   "id": "c3925512-ebde-4131-a3c3-e3d665d4208d",
   "metadata": {},
   "outputs": [
    {
     "name": "stdout",
     "output_type": "stream",
     "text": [
      "<class 'pandas.core.frame.DataFrame'>\n",
      "RangeIndex: 53902 entries, 0 to 53901\n",
      "Data columns (total 9 columns):\n",
      " #   Column               Non-Null Count  Dtype                    \n",
      "---  ------               --------------  -----                    \n",
      " 0   user_id              53902 non-null  int64                    \n",
      " 1   date                 53902 non-null  datetime64[ns, UTC+03:00]\n",
      " 2   direction            53902 non-null  object                   \n",
      " 3   internal             53785 non-null  object                   \n",
      " 4   operator_id          45730 non-null  float64                  \n",
      " 5   is_missed_call       53902 non-null  bool                     \n",
      " 6   calls_count          53902 non-null  int64                    \n",
      " 7   call_duration        53902 non-null  int64                    \n",
      " 8   total_call_duration  53902 non-null  int64                    \n",
      "dtypes: bool(1), datetime64[ns, UTC+03:00](1), float64(1), int64(4), object(2)\n",
      "memory usage: 3.3+ MB\n"
     ]
    }
   ],
   "source": [
    "dataset.info()"
   ]
  },
  {
   "cell_type": "code",
   "execution_count": 14,
   "id": "a688c83a-9ff6-42f5-8557-70a8063f700e",
   "metadata": {},
   "outputs": [
    {
     "data": {
      "text/html": [
       "<div>\n",
       "<style scoped>\n",
       "    .dataframe tbody tr th:only-of-type {\n",
       "        vertical-align: middle;\n",
       "    }\n",
       "\n",
       "    .dataframe tbody tr th {\n",
       "        vertical-align: top;\n",
       "    }\n",
       "\n",
       "    .dataframe thead th {\n",
       "        text-align: right;\n",
       "    }\n",
       "</style>\n",
       "<table border=\"1\" class=\"dataframe\">\n",
       "  <thead>\n",
       "    <tr style=\"text-align: right;\">\n",
       "      <th></th>\n",
       "      <th>user_id</th>\n",
       "      <th>date</th>\n",
       "      <th>direction</th>\n",
       "      <th>internal</th>\n",
       "      <th>operator_id</th>\n",
       "      <th>is_missed_call</th>\n",
       "      <th>calls_count</th>\n",
       "      <th>call_duration</th>\n",
       "      <th>total_call_duration</th>\n",
       "    </tr>\n",
       "  </thead>\n",
       "  <tbody>\n",
       "    <tr>\n",
       "      <th>0</th>\n",
       "      <td>166377</td>\n",
       "      <td>2019-08-04 00:00:00+03:00</td>\n",
       "      <td>in</td>\n",
       "      <td>False</td>\n",
       "      <td>NaN</td>\n",
       "      <td>True</td>\n",
       "      <td>2</td>\n",
       "      <td>0</td>\n",
       "      <td>4</td>\n",
       "    </tr>\n",
       "    <tr>\n",
       "      <th>1</th>\n",
       "      <td>166377</td>\n",
       "      <td>2019-08-05 00:00:00+03:00</td>\n",
       "      <td>out</td>\n",
       "      <td>True</td>\n",
       "      <td>880022.0</td>\n",
       "      <td>True</td>\n",
       "      <td>3</td>\n",
       "      <td>0</td>\n",
       "      <td>5</td>\n",
       "    </tr>\n",
       "    <tr>\n",
       "      <th>2</th>\n",
       "      <td>166377</td>\n",
       "      <td>2019-08-05 00:00:00+03:00</td>\n",
       "      <td>out</td>\n",
       "      <td>True</td>\n",
       "      <td>880020.0</td>\n",
       "      <td>True</td>\n",
       "      <td>1</td>\n",
       "      <td>0</td>\n",
       "      <td>1</td>\n",
       "    </tr>\n",
       "    <tr>\n",
       "      <th>3</th>\n",
       "      <td>166377</td>\n",
       "      <td>2019-08-05 00:00:00+03:00</td>\n",
       "      <td>out</td>\n",
       "      <td>True</td>\n",
       "      <td>880020.0</td>\n",
       "      <td>False</td>\n",
       "      <td>1</td>\n",
       "      <td>10</td>\n",
       "      <td>18</td>\n",
       "    </tr>\n",
       "    <tr>\n",
       "      <th>4</th>\n",
       "      <td>166377</td>\n",
       "      <td>2019-08-05 00:00:00+03:00</td>\n",
       "      <td>out</td>\n",
       "      <td>False</td>\n",
       "      <td>880022.0</td>\n",
       "      <td>True</td>\n",
       "      <td>3</td>\n",
       "      <td>0</td>\n",
       "      <td>25</td>\n",
       "    </tr>\n",
       "  </tbody>\n",
       "</table>\n",
       "</div>"
      ],
      "text/plain": [
       "   user_id                      date direction internal  operator_id  \\\n",
       "0   166377 2019-08-04 00:00:00+03:00        in    False          NaN   \n",
       "1   166377 2019-08-05 00:00:00+03:00       out     True     880022.0   \n",
       "2   166377 2019-08-05 00:00:00+03:00       out     True     880020.0   \n",
       "3   166377 2019-08-05 00:00:00+03:00       out     True     880020.0   \n",
       "4   166377 2019-08-05 00:00:00+03:00       out    False     880022.0   \n",
       "\n",
       "   is_missed_call  calls_count  call_duration  total_call_duration  \n",
       "0            True            2              0                    4  \n",
       "1            True            3              0                    5  \n",
       "2            True            1              0                    1  \n",
       "3           False            1             10                   18  \n",
       "4            True            3              0                   25  "
      ]
     },
     "execution_count": 14,
     "metadata": {},
     "output_type": "execute_result"
    }
   ],
   "source": [
    "dataset.head()"
   ]
  },
  {
   "cell_type": "markdown",
   "id": "76f15560-e1db-4a87-8d08-ce26fbe33d63",
   "metadata": {},
   "source": [
    "**Datos nulos**"
   ]
  },
  {
   "cell_type": "code",
   "execution_count": 15,
   "id": "d628d2ee-e7d8-43d8-88fc-86e80a6b8c24",
   "metadata": {},
   "outputs": [
    {
     "data": {
      "text/plain": [
       "user_id                   0\n",
       "date                      0\n",
       "direction                 0\n",
       "internal                117\n",
       "operator_id            8172\n",
       "is_missed_call            0\n",
       "calls_count               0\n",
       "call_duration             0\n",
       "total_call_duration       0\n",
       "dtype: int64"
      ]
     },
     "execution_count": 15,
     "metadata": {},
     "output_type": "execute_result"
    }
   ],
   "source": [
    "dataset.isna().sum()"
   ]
  },
  {
   "cell_type": "markdown",
   "id": "20b4cd50-4edb-42da-9b73-f7fd82cf72e6",
   "metadata": {},
   "source": [
    "**Columna internal**"
   ]
  },
  {
   "cell_type": "code",
   "execution_count": 16,
   "id": "9dde983e-51ea-4e04-82a6-e5ff83497b4c",
   "metadata": {},
   "outputs": [],
   "source": [
    "internal_nulos = dataset[dataset['internal'].isnull()]"
   ]
  },
  {
   "cell_type": "code",
   "execution_count": 17,
   "id": "58e1912b-40d2-4ac6-a7a5-a407b53ed12a",
   "metadata": {},
   "outputs": [
    {
     "name": "stdout",
     "output_type": "stream",
     "text": [
      "Distribución de 'direction' para valores nulos en 'internal':\n",
      "direction\n",
      "in     115\n",
      "out      2\n",
      "Name: count, dtype: int64\n"
     ]
    }
   ],
   "source": [
    "print(\"Distribución de 'direction' para valores nulos en 'internal':\")\n",
    "print(internal_nulos['direction'].value_counts())"
   ]
  },
  {
   "cell_type": "markdown",
   "id": "6514759f-b6bb-4702-a598-c105f120fb94",
   "metadata": {},
   "source": [
    "Traté de inferir si los valores nulos de la columna 'internal' con los valores de la columna 'direction', si el valor en 'direction' era in (llamada entrante) no se considera llamada interna, de los 117 valores nulos 115 son in por lo cual no son llamadas internas, por lo cual consideré imputar los valores nulos como False ya que al no ser una cantidad considerable es poco probable que afecte el análisis."
   ]
  },
  {
   "cell_type": "code",
   "execution_count": 18,
   "id": "c51b4096-bd71-44f9-8dc9-6bf3bbffba1b",
   "metadata": {},
   "outputs": [
    {
     "name": "stderr",
     "output_type": "stream",
     "text": [
      "C:\\Users\\AIMEE DGUEZ NIETO\\AppData\\Local\\Temp\\ipykernel_24296\\3337664992.py:1: FutureWarning: Downcasting object dtype arrays on .fillna, .ffill, .bfill is deprecated and will change in a future version. Call result.infer_objects(copy=False) instead. To opt-in to the future behavior, set `pd.set_option('future.no_silent_downcasting', True)`\n",
      "  dataset['internal'] = dataset['internal'].fillna(False).astype(bool)\n"
     ]
    }
   ],
   "source": [
    "dataset['internal'] = dataset['internal'].fillna(False).astype(bool)"
   ]
  },
  {
   "cell_type": "code",
   "execution_count": 19,
   "id": "1c974b12-789f-410b-aedc-41c65461d43e",
   "metadata": {},
   "outputs": [
    {
     "data": {
      "text/plain": [
       "user_id                   0\n",
       "date                      0\n",
       "direction                 0\n",
       "internal                  0\n",
       "operator_id            8172\n",
       "is_missed_call            0\n",
       "calls_count               0\n",
       "call_duration             0\n",
       "total_call_duration       0\n",
       "dtype: int64"
      ]
     },
     "execution_count": 19,
     "metadata": {},
     "output_type": "execute_result"
    }
   ],
   "source": [
    "dataset.isna().sum()"
   ]
  },
  {
   "cell_type": "markdown",
   "id": "e87896ff-748c-4120-8823-baee1235befe",
   "metadata": {},
   "source": [
    "**Columna operator_id**"
   ]
  },
  {
   "cell_type": "code",
   "execution_count": 20,
   "id": "10b1989d-d7f3-4da6-b738-0bf2eec952f1",
   "metadata": {},
   "outputs": [],
   "source": [
    "missing_operator_data = dataset[dataset['operator_id'].isnull()]"
   ]
  },
  {
   "cell_type": "code",
   "execution_count": 21,
   "id": "f696b8f8-8558-48ac-9491-8870291c6950",
   "metadata": {},
   "outputs": [],
   "source": [
    "missed_call_count = missing_operator_data['is_missed_call'].sum()"
   ]
  },
  {
   "cell_type": "code",
   "execution_count": 22,
   "id": "8a41acb8-420e-417c-b33e-3a1cf0d3fbae",
   "metadata": {},
   "outputs": [],
   "source": [
    "total_missing_operator = missing_operator_data.shape[0]\n",
    "proportion_missed_calls = missed_call_count / total_missing_operator"
   ]
  },
  {
   "cell_type": "code",
   "execution_count": 23,
   "id": "414ba8e2-ee4d-41eb-99fc-47954a34fa19",
   "metadata": {},
   "outputs": [
    {
     "name": "stdout",
     "output_type": "stream",
     "text": [
      "Total de valores nulos en operator_id: 8172\n",
      "Total de llamadas perdidas entre esos valores nulos: 8050\n",
      "Proporción de llamadas perdidas: 98.51%\n"
     ]
    }
   ],
   "source": [
    "print(f\"Total de valores nulos en operator_id: {total_missing_operator}\")\n",
    "print(f\"Total de llamadas perdidas entre esos valores nulos: {missed_call_count}\")\n",
    "print(f\"Proporción de llamadas perdidas: {proportion_missed_calls:.2%}\")"
   ]
  },
  {
   "cell_type": "markdown",
   "id": "772ab549-2492-49e6-a08b-cb1bd4698322",
   "metadata": {},
   "source": [
    "El porcentaje de valores nulos que están relacionados con llamadas perdidas es de 98.51%, las cuales no están vinculadas a un operador específico por lo cual consideré eliminarlos. "
   ]
  },
  {
   "cell_type": "code",
   "execution_count": 24,
   "id": "cbb246db-f0f6-4f20-a72b-ac96bb8a9b77",
   "metadata": {},
   "outputs": [],
   "source": [
    "dataset_cleaned = dataset.dropna(subset=['operator_id'])"
   ]
  },
  {
   "cell_type": "code",
   "execution_count": 25,
   "id": "b56fb428-d026-40e7-9bbc-68b1ae3d3c9a",
   "metadata": {},
   "outputs": [
    {
     "name": "stdout",
     "output_type": "stream",
     "text": [
      "0\n"
     ]
    }
   ],
   "source": [
    "print(dataset_cleaned['operator_id'].isnull().sum())"
   ]
  },
  {
   "cell_type": "code",
   "execution_count": 26,
   "id": "4b4b6e93-dca3-4de4-be7a-0b5e6280454f",
   "metadata": {},
   "outputs": [
    {
     "data": {
      "text/plain": [
       "user_id                0\n",
       "date                   0\n",
       "direction              0\n",
       "internal               0\n",
       "operator_id            0\n",
       "is_missed_call         0\n",
       "calls_count            0\n",
       "call_duration          0\n",
       "total_call_duration    0\n",
       "dtype: int64"
      ]
     },
     "execution_count": 26,
     "metadata": {},
     "output_type": "execute_result"
    }
   ],
   "source": [
    "dataset_cleaned.isna().sum()"
   ]
  },
  {
   "cell_type": "markdown",
   "id": "15fc7ed1-3569-4c83-9362-2856f69b9154",
   "metadata": {},
   "source": [
    "**Datos duplicados**"
   ]
  },
  {
   "cell_type": "code",
   "execution_count": 27,
   "id": "60821b39-fec2-4219-aeee-4873c9bb9e0f",
   "metadata": {},
   "outputs": [
    {
     "data": {
      "text/plain": [
       "4184"
      ]
     },
     "execution_count": 27,
     "metadata": {},
     "output_type": "execute_result"
    }
   ],
   "source": [
    "dataset_cleaned.duplicated().sum()"
   ]
  },
  {
   "cell_type": "code",
   "execution_count": 28,
   "id": "ba3ef5a5-7923-4463-8607-76f41d726f51",
   "metadata": {},
   "outputs": [],
   "source": [
    "duplicados_totales = dataset_cleaned[dataset_cleaned.duplicated()]"
   ]
  },
  {
   "cell_type": "code",
   "execution_count": 29,
   "id": "8d20d474-15c3-4bc3-898c-1d1afb78f4b3",
   "metadata": {},
   "outputs": [],
   "source": [
    "columnas_a_excluir = ['date', 'user_id', 'operator_id']\n",
    "columnas_para_comparar = [col for col in dataset_cleaned.columns if col not in columnas_a_excluir]"
   ]
  },
  {
   "cell_type": "code",
   "execution_count": 30,
   "id": "a3f5c49e-f2b0-4955-8256-d786adc209c2",
   "metadata": {},
   "outputs": [],
   "source": [
    "duplicados_reales = dataset_cleaned[dataset_cleaned.duplicated(subset=columnas_para_comparar)]"
   ]
  },
  {
   "cell_type": "code",
   "execution_count": 31,
   "id": "e075a7e9-9f96-4ca4-a9f8-6007c272d74c",
   "metadata": {},
   "outputs": [
    {
     "name": "stdout",
     "output_type": "stream",
     "text": [
      "Duplicados totales: 4184\n",
      "Duplicados reales: 13351\n"
     ]
    }
   ],
   "source": [
    "print(f\"Duplicados totales: {len(duplicados_totales)}\")\n",
    "print(f\"Duplicados reales: {len(duplicados_reales)}\")"
   ]
  },
  {
   "cell_type": "code",
   "execution_count": 32,
   "id": "23205077-df3e-4567-a917-5e350cd8b391",
   "metadata": {},
   "outputs": [
    {
     "name": "stdout",
     "output_type": "stream",
     "text": [
      "Ejemplo de duplicados reales:\n",
      "     user_id                      date direction  internal  operator_id  \\\n",
      "8     166377 2019-08-05 00:00:00+03:00       out     False     880020.0   \n",
      "44    166377 2019-08-14 00:00:00+03:00       out     False     880026.0   \n",
      "51    166377 2019-08-15 00:00:00+03:00       out     False     880026.0   \n",
      "62    166377 2019-08-19 00:00:00+03:00       out     False     880026.0   \n",
      "78    166377 2019-08-22 00:00:00+03:00       out     False     880026.0   \n",
      "86    166377 2019-08-23 00:00:00+03:00       out     False     880026.0   \n",
      "87    166377 2019-08-23 00:00:00+03:00        in     False     880026.0   \n",
      "100   166377 2019-08-27 00:00:00+03:00       out     False     880028.0   \n",
      "111   166377 2019-08-29 00:00:00+03:00       out     False     880028.0   \n",
      "124   166377 2019-09-02 00:00:00+03:00       out      True     880020.0   \n",
      "\n",
      "     is_missed_call  calls_count  call_duration  total_call_duration  \n",
      "8              True            8              0                   50  \n",
      "44            False           10           1567                 1654  \n",
      "51            False           11           1413                 1473  \n",
      "62            False           14           1519                 1598  \n",
      "78             True            6              0                   55  \n",
      "86            False           43           3435                 3654  \n",
      "87            False            1             45                   52  \n",
      "100           False           20           2784                 2979  \n",
      "111           False           25           2323                 2595  \n",
      "124            True            2              0                    0  \n"
     ]
    }
   ],
   "source": [
    "print(\"Ejemplo de duplicados reales:\")\n",
    "print(duplicados_reales.head(10))"
   ]
  },
  {
   "cell_type": "markdown",
   "id": "9c82c6b4-4871-4bc6-88ad-6ff71ca452ab",
   "metadata": {},
   "source": [
    "Duplicados totales: 4184\n",
    "Esto representa el número de filas que son exactamente idénticas en todas las columnas. Es posible que estas filas sean errores en la carga de datos o entradas repetidas accidentalmente. Dado que estas filas no aportan información adicional, deben ser eliminadas para evitar sesgos."
   ]
  },
  {
   "cell_type": "markdown",
   "id": "1e1c10d4-7f65-4d4d-beff-899564605749",
   "metadata": {},
   "source": [
    "Duplicados reales: 13351\n",
    "Los duplicados reales son registros que tienen valores similares en ciertas columnas clave, pero no necesariamente en todas. Por ejemplo, las filas en el conjunto tienen el mismo user_id, date, direction, pero pueden diferir en columnas como calls_count o is_missed_call. Esto podría indicar datos sobre diferentes eventos de un mismo usuario u operador en una fecha específica. Estos duplicados se consideran dentro del análisis."
   ]
  },
  {
   "cell_type": "code",
   "execution_count": 33,
   "id": "9b3e9f57-998d-4b8c-a4a5-57d34344320f",
   "metadata": {},
   "outputs": [],
   "source": [
    "dataset_cleaned = dataset_cleaned.drop_duplicates()"
   ]
  },
  {
   "cell_type": "code",
   "execution_count": 34,
   "id": "feecf144-90b6-4817-9e3b-70943cc76355",
   "metadata": {},
   "outputs": [
    {
     "data": {
      "text/plain": [
       "0"
      ]
     },
     "execution_count": 34,
     "metadata": {},
     "output_type": "execute_result"
    }
   ],
   "source": [
    "dataset_cleaned.duplicated().sum()"
   ]
  },
  {
   "cell_type": "code",
   "execution_count": 35,
   "id": "6848662b-b390-4de6-9ff0-000bd323971c",
   "metadata": {},
   "outputs": [
    {
     "data": {
      "text/html": [
       "<div>\n",
       "<style scoped>\n",
       "    .dataframe tbody tr th:only-of-type {\n",
       "        vertical-align: middle;\n",
       "    }\n",
       "\n",
       "    .dataframe tbody tr th {\n",
       "        vertical-align: top;\n",
       "    }\n",
       "\n",
       "    .dataframe thead th {\n",
       "        text-align: right;\n",
       "    }\n",
       "</style>\n",
       "<table border=\"1\" class=\"dataframe\">\n",
       "  <thead>\n",
       "    <tr style=\"text-align: right;\">\n",
       "      <th></th>\n",
       "      <th>user_id</th>\n",
       "      <th>operator_id</th>\n",
       "      <th>calls_count</th>\n",
       "      <th>call_duration</th>\n",
       "      <th>total_call_duration</th>\n",
       "    </tr>\n",
       "  </thead>\n",
       "  <tbody>\n",
       "    <tr>\n",
       "      <th>count</th>\n",
       "      <td>41546.000000</td>\n",
       "      <td>41546.000000</td>\n",
       "      <td>41546.000000</td>\n",
       "      <td>41546.000000</td>\n",
       "      <td>41546.000000</td>\n",
       "    </tr>\n",
       "    <tr>\n",
       "      <th>mean</th>\n",
       "      <td>167301.311992</td>\n",
       "      <td>916523.315409</td>\n",
       "      <td>16.900424</td>\n",
       "      <td>1009.769172</td>\n",
       "      <td>1321.592813</td>\n",
       "    </tr>\n",
       "    <tr>\n",
       "      <th>std</th>\n",
       "      <td>600.418838</td>\n",
       "      <td>21230.041008</td>\n",
       "      <td>59.749373</td>\n",
       "      <td>4064.106117</td>\n",
       "      <td>4785.978633</td>\n",
       "    </tr>\n",
       "    <tr>\n",
       "      <th>min</th>\n",
       "      <td>166377.000000</td>\n",
       "      <td>879896.000000</td>\n",
       "      <td>1.000000</td>\n",
       "      <td>0.000000</td>\n",
       "      <td>0.000000</td>\n",
       "    </tr>\n",
       "    <tr>\n",
       "      <th>25%</th>\n",
       "      <td>166782.000000</td>\n",
       "      <td>900790.500000</td>\n",
       "      <td>1.000000</td>\n",
       "      <td>0.000000</td>\n",
       "      <td>67.000000</td>\n",
       "    </tr>\n",
       "    <tr>\n",
       "      <th>50%</th>\n",
       "      <td>167175.000000</td>\n",
       "      <td>913938.000000</td>\n",
       "      <td>4.000000</td>\n",
       "      <td>106.000000</td>\n",
       "      <td>288.000000</td>\n",
       "    </tr>\n",
       "    <tr>\n",
       "      <th>75%</th>\n",
       "      <td>167827.000000</td>\n",
       "      <td>937708.000000</td>\n",
       "      <td>13.000000</td>\n",
       "      <td>770.000000</td>\n",
       "      <td>1104.000000</td>\n",
       "    </tr>\n",
       "    <tr>\n",
       "      <th>max</th>\n",
       "      <td>168606.000000</td>\n",
       "      <td>973286.000000</td>\n",
       "      <td>4817.000000</td>\n",
       "      <td>144395.000000</td>\n",
       "      <td>166155.000000</td>\n",
       "    </tr>\n",
       "  </tbody>\n",
       "</table>\n",
       "</div>"
      ],
      "text/plain": [
       "             user_id    operator_id   calls_count  call_duration  \\\n",
       "count   41546.000000   41546.000000  41546.000000   41546.000000   \n",
       "mean   167301.311992  916523.315409     16.900424    1009.769172   \n",
       "std       600.418838   21230.041008     59.749373    4064.106117   \n",
       "min    166377.000000  879896.000000      1.000000       0.000000   \n",
       "25%    166782.000000  900790.500000      1.000000       0.000000   \n",
       "50%    167175.000000  913938.000000      4.000000     106.000000   \n",
       "75%    167827.000000  937708.000000     13.000000     770.000000   \n",
       "max    168606.000000  973286.000000   4817.000000  144395.000000   \n",
       "\n",
       "       total_call_duration  \n",
       "count         41546.000000  \n",
       "mean           1321.592813  \n",
       "std            4785.978633  \n",
       "min               0.000000  \n",
       "25%              67.000000  \n",
       "50%             288.000000  \n",
       "75%            1104.000000  \n",
       "max          166155.000000  "
      ]
     },
     "execution_count": 35,
     "metadata": {},
     "output_type": "execute_result"
    }
   ],
   "source": [
    "dataset_cleaned.describe()"
   ]
  },
  {
   "cell_type": "markdown",
   "id": "3fbbbf87-e1d8-49c2-af63-5664594c1517",
   "metadata": {},
   "source": [
    "**Métricas de los operadores**"
   ]
  },
  {
   "cell_type": "markdown",
   "id": "067391c0-e368-4a3c-8a50-0fd18a151965",
   "metadata": {},
   "source": [
    "-Número total de llamadas por operador "
   ]
  },
  {
   "cell_type": "code",
   "execution_count": 36,
   "id": "9550555d-beff-404a-ad17-e1f8073726ac",
   "metadata": {},
   "outputs": [],
   "source": [
    "total_calls_by_operator = dataset_cleaned.groupby('operator_id')['calls_count'].sum()"
   ]
  },
  {
   "cell_type": "code",
   "execution_count": 37,
   "id": "09acb868-ed55-4eb0-90c7-3e397ac31992",
   "metadata": {},
   "outputs": [],
   "source": [
    "total_calls_by_operator = total_calls_by_operator.reset_index()\n",
    "total_calls_by_operator.columns = ['operator_id', 'total_calls']"
   ]
  },
  {
   "cell_type": "code",
   "execution_count": 38,
   "id": "dee1b22b-45e8-410e-9d76-f78153a05b7b",
   "metadata": {},
   "outputs": [
    {
     "name": "stdout",
     "output_type": "stream",
     "text": [
      "      operator_id  total_calls\n",
      "0        879896.0          930\n",
      "1        879898.0         7313\n",
      "2        880020.0           45\n",
      "3        880022.0          197\n",
      "4        880026.0         2232\n",
      "...           ...          ...\n",
      "1087     972410.0           77\n",
      "1088     972412.0           61\n",
      "1089     972460.0           51\n",
      "1090     973120.0            3\n",
      "1091     973286.0            2\n",
      "\n",
      "[1092 rows x 2 columns]\n"
     ]
    }
   ],
   "source": [
    "print(total_calls_by_operator)"
   ]
  },
  {
   "cell_type": "code",
   "execution_count": 39,
   "id": "d567bc1c-552b-4044-9eb1-97ce69624d45",
   "metadata": {},
   "outputs": [],
   "source": [
    "total_llamadas = total_calls_by_operator['total_calls'].sum()"
   ]
  },
  {
   "cell_type": "code",
   "execution_count": 40,
   "id": "17b1d12a-a1fe-48cf-b6a2-c0abbe4d6b66",
   "metadata": {},
   "outputs": [
    {
     "data": {
      "text/plain": [
       "702145"
      ]
     },
     "execution_count": 40,
     "metadata": {},
     "output_type": "execute_result"
    }
   ],
   "source": [
    "total_llamadas"
   ]
  },
  {
   "cell_type": "markdown",
   "id": "fc6fa250-4938-4975-8d72-131d5db5f257",
   "metadata": {},
   "source": [
    "-Número total de llamadas entrantes por operador"
   ]
  },
  {
   "cell_type": "code",
   "execution_count": 41,
   "id": "b8af688f-24ef-41d7-9a90-7032233b58b6",
   "metadata": {},
   "outputs": [],
   "source": [
    "incoming_calls = dataset_cleaned[dataset_cleaned['direction'] == 'in']\n",
    "total_incoming_calls_by_operator = incoming_calls.groupby('operator_id')['calls_count'].sum().reset_index()"
   ]
  },
  {
   "cell_type": "code",
   "execution_count": 42,
   "id": "65ba11a6-5708-4c7c-bf10-4811424e3c0a",
   "metadata": {},
   "outputs": [],
   "source": [
    "total_incoming_calls_by_operator.columns = ['operator_id', 'total_incoming_calls']"
   ]
  },
  {
   "cell_type": "code",
   "execution_count": 43,
   "id": "844db2f4-a2de-4e14-8bfb-243fe00b7c66",
   "metadata": {},
   "outputs": [
    {
     "name": "stdout",
     "output_type": "stream",
     "text": [
      "     operator_id  total_incoming_calls\n",
      "0       879896.0                    58\n",
      "1       879898.0                   104\n",
      "2       880020.0                     7\n",
      "3       880022.0                     8\n",
      "4       880026.0                    24\n",
      "..           ...                   ...\n",
      "749     971102.0                    76\n",
      "750     971354.0                     6\n",
      "751     972412.0                     1\n",
      "752     972460.0                     1\n",
      "753     973286.0                     2\n",
      "\n",
      "[754 rows x 2 columns]\n"
     ]
    }
   ],
   "source": [
    "print(total_incoming_calls_by_operator)"
   ]
  },
  {
   "cell_type": "code",
   "execution_count": 44,
   "id": "244f8f5b-ac22-4aeb-b26c-182476712836",
   "metadata": {},
   "outputs": [],
   "source": [
    "total_llamadas_entrantes = total_incoming_calls_by_operator['total_incoming_calls'].sum()"
   ]
  },
  {
   "cell_type": "code",
   "execution_count": 45,
   "id": "61e1b47b-deb4-4d11-abb1-75108c9d3902",
   "metadata": {},
   "outputs": [
    {
     "data": {
      "text/plain": [
       "93802"
      ]
     },
     "execution_count": 45,
     "metadata": {},
     "output_type": "execute_result"
    }
   ],
   "source": [
    "total_llamadas_entrantes"
   ]
  },
  {
   "cell_type": "markdown",
   "id": "134b75fc-15e1-4e11-be55-ae8599bd562b",
   "metadata": {},
   "source": [
    "-Número total de llamadas salientes por operador"
   ]
  },
  {
   "cell_type": "code",
   "execution_count": 46,
   "id": "0e85bbcf-689f-445f-8140-e3fe1e8872de",
   "metadata": {},
   "outputs": [],
   "source": [
    "outcoming_calls = dataset_cleaned[dataset_cleaned['direction'] == 'out']\n",
    "total_outcoming_calls_by_operator = outcoming_calls.groupby('operator_id')['calls_count'].sum().reset_index()"
   ]
  },
  {
   "cell_type": "code",
   "execution_count": 47,
   "id": "ecb23eeb-e8c0-4426-91c1-d8f5bcccc67c",
   "metadata": {},
   "outputs": [],
   "source": [
    "total_outcoming_calls_by_operator.columns = ['operator_id', 'total_outcoming_calls']"
   ]
  },
  {
   "cell_type": "code",
   "execution_count": 48,
   "id": "fe982f70-0793-474e-a067-a5cfaed66d3f",
   "metadata": {},
   "outputs": [
    {
     "name": "stdout",
     "output_type": "stream",
     "text": [
      "     operator_id  total_outcoming_calls\n",
      "0       879896.0                    872\n",
      "1       879898.0                   7209\n",
      "2       880020.0                     38\n",
      "3       880022.0                    189\n",
      "4       880026.0                   2208\n",
      "..           ...                    ...\n",
      "877     972408.0                      6\n",
      "878     972410.0                     77\n",
      "879     972412.0                     60\n",
      "880     972460.0                     50\n",
      "881     973120.0                      3\n",
      "\n",
      "[882 rows x 2 columns]\n"
     ]
    }
   ],
   "source": [
    "print(total_outcoming_calls_by_operator)"
   ]
  },
  {
   "cell_type": "code",
   "execution_count": 49,
   "id": "47ad03e0-5402-4da3-b1f4-f8f607e245fb",
   "metadata": {},
   "outputs": [
    {
     "data": {
      "text/html": [
       "<div>\n",
       "<style scoped>\n",
       "    .dataframe tbody tr th:only-of-type {\n",
       "        vertical-align: middle;\n",
       "    }\n",
       "\n",
       "    .dataframe tbody tr th {\n",
       "        vertical-align: top;\n",
       "    }\n",
       "\n",
       "    .dataframe thead th {\n",
       "        text-align: right;\n",
       "    }\n",
       "</style>\n",
       "<table border=\"1\" class=\"dataframe\">\n",
       "  <thead>\n",
       "    <tr style=\"text-align: right;\">\n",
       "      <th></th>\n",
       "      <th>operator_id</th>\n",
       "      <th>total_outcoming_calls</th>\n",
       "    </tr>\n",
       "  </thead>\n",
       "  <tbody>\n",
       "    <tr>\n",
       "      <th>count</th>\n",
       "      <td>882.000000</td>\n",
       "      <td>882.000000</td>\n",
       "    </tr>\n",
       "    <tr>\n",
       "      <th>mean</th>\n",
       "      <td>925658.340136</td>\n",
       "      <td>689.731293</td>\n",
       "    </tr>\n",
       "    <tr>\n",
       "      <th>std</th>\n",
       "      <td>22862.558731</td>\n",
       "      <td>3122.953946</td>\n",
       "    </tr>\n",
       "    <tr>\n",
       "      <th>min</th>\n",
       "      <td>879896.000000</td>\n",
       "      <td>1.000000</td>\n",
       "    </tr>\n",
       "    <tr>\n",
       "      <th>25%</th>\n",
       "      <td>906394.500000</td>\n",
       "      <td>11.000000</td>\n",
       "    </tr>\n",
       "    <tr>\n",
       "      <th>50%</th>\n",
       "      <td>924959.000000</td>\n",
       "      <td>90.000000</td>\n",
       "    </tr>\n",
       "    <tr>\n",
       "      <th>75%</th>\n",
       "      <td>943630.000000</td>\n",
       "      <td>597.250000</td>\n",
       "    </tr>\n",
       "    <tr>\n",
       "      <th>max</th>\n",
       "      <td>973120.000000</td>\n",
       "      <td>58977.000000</td>\n",
       "    </tr>\n",
       "  </tbody>\n",
       "</table>\n",
       "</div>"
      ],
      "text/plain": [
       "         operator_id  total_outcoming_calls\n",
       "count     882.000000             882.000000\n",
       "mean   925658.340136             689.731293\n",
       "std     22862.558731            3122.953946\n",
       "min    879896.000000               1.000000\n",
       "25%    906394.500000              11.000000\n",
       "50%    924959.000000              90.000000\n",
       "75%    943630.000000             597.250000\n",
       "max    973120.000000           58977.000000"
      ]
     },
     "execution_count": 49,
     "metadata": {},
     "output_type": "execute_result"
    }
   ],
   "source": [
    "total_outcoming_calls_by_operator.describe()"
   ]
  },
  {
   "cell_type": "code",
   "execution_count": 50,
   "id": "e9f6d40a-9658-4e42-b471-9bf56d2b74bd",
   "metadata": {},
   "outputs": [],
   "source": [
    "total_llamadas_salientes = total_outcoming_calls_by_operator['total_outcoming_calls'].sum()"
   ]
  },
  {
   "cell_type": "code",
   "execution_count": 51,
   "id": "1d49e349-aabf-411d-a1ab-40485dc07ec4",
   "metadata": {},
   "outputs": [
    {
     "data": {
      "text/plain": [
       "608343"
      ]
     },
     "execution_count": 51,
     "metadata": {},
     "output_type": "execute_result"
    }
   ],
   "source": [
    "total_llamadas_salientes"
   ]
  },
  {
   "cell_type": "markdown",
   "id": "b37d5214-b7ec-4275-925e-968322a18275",
   "metadata": {},
   "source": [
    "-Número total de llamadas internas por operador"
   ]
  },
  {
   "cell_type": "code",
   "execution_count": 52,
   "id": "5b0566c1-1ae1-4a1a-82ee-f58e2c7b1443",
   "metadata": {},
   "outputs": [],
   "source": [
    "total_internal_calls_by_operator = dataset_cleaned.groupby('operator_id')['internal'].sum().reset_index()"
   ]
  },
  {
   "cell_type": "code",
   "execution_count": 53,
   "id": "38fd2f87-1ba9-4a47-b4f4-7a59df152a7d",
   "metadata": {},
   "outputs": [],
   "source": [
    "total_internal_calls_by_operator.columns = ['operator_id', 'total_internal_calls']"
   ]
  },
  {
   "cell_type": "code",
   "execution_count": 54,
   "id": "be0a1f53-7b1b-4f6c-943e-5545d703161a",
   "metadata": {},
   "outputs": [
    {
     "name": "stdout",
     "output_type": "stream",
     "text": [
      "      operator_id  total_internal_calls\n",
      "0        879896.0                    15\n",
      "1        879898.0                    15\n",
      "2        880020.0                     3\n",
      "3        880022.0                     8\n",
      "4        880026.0                    13\n",
      "...           ...                   ...\n",
      "1087     972410.0                     0\n",
      "1088     972412.0                     0\n",
      "1089     972460.0                     2\n",
      "1090     973120.0                     0\n",
      "1091     973286.0                     0\n",
      "\n",
      "[1092 rows x 2 columns]\n"
     ]
    }
   ],
   "source": [
    "print(total_internal_calls_by_operator)"
   ]
  },
  {
   "cell_type": "code",
   "execution_count": 55,
   "id": "d3bafaa1-a227-49e4-81b6-52d81f2892d9",
   "metadata": {},
   "outputs": [],
   "source": [
    "total_llamadas_internas = total_internal_calls_by_operator['total_internal_calls'].sum()"
   ]
  },
  {
   "cell_type": "code",
   "execution_count": 56,
   "id": "74072f22-8714-40c1-a892-8ed43d88ae8e",
   "metadata": {},
   "outputs": [
    {
     "data": {
      "text/plain": [
       "5330"
      ]
     },
     "execution_count": 56,
     "metadata": {},
     "output_type": "execute_result"
    }
   ],
   "source": [
    "total_llamadas_internas"
   ]
  },
  {
   "cell_type": "markdown",
   "id": "37603dc7-91ad-4021-a291-6da3133e88c1",
   "metadata": {},
   "source": [
    "Distribución del tipo de llamadas"
   ]
  },
  {
   "cell_type": "code",
   "execution_count": 57,
   "id": "aa1ba24c-0328-4005-ab15-df9c4efd6b35",
   "metadata": {},
   "outputs": [],
   "source": [
    "total_llamadas_entrantes = total_incoming_calls_by_operator['total_incoming_calls'].sum()\n",
    "total_llamadas_salientes = total_outcoming_calls_by_operator['total_outcoming_calls'].sum()\n",
    "total_llamadas_internas = total_internal_calls_by_operator['total_internal_calls'].sum()"
   ]
  },
  {
   "cell_type": "code",
   "execution_count": 58,
   "id": "4de14c64-b91f-4873-9f80-4289df942b68",
   "metadata": {},
   "outputs": [],
   "source": [
    "categorias = ['Entrantes', 'Salientes', 'Internas']\n",
    "valores = [total_llamadas_entrantes, total_llamadas_salientes, total_llamadas_internas]"
   ]
  },
  {
   "cell_type": "code",
   "execution_count": 59,
   "id": "6ab29366-b4b5-4009-8cd2-f044f1b2d2d2",
   "metadata": {},
   "outputs": [
    {
     "data": {
      "text/plain": [
       "Text(0.5, 1.0, 'Proporción de Tipos de Llamadas')"
      ]
     },
     "execution_count": 59,
     "metadata": {},
     "output_type": "execute_result"
    },
    {
     "data": {
      "image/png": "[encoded data removed]",
      "text/plain": [
       "<Figure size 800x800 with 1 Axes>"
      ]
     },
     "metadata": {},
     "output_type": "display_data"
    }
   ],
   "source": [
    "plt.figure(figsize=(8, 8))\n",
    "plt.pie(\n",
    "    valores, \n",
    "    labels=categorias, \n",
    "    autopct='%1.1f%%', \n",
    "    startangle=140, \n",
    "    colors=['#1f77b4', '#ff7f0e', '#2ca02c']\n",
    ")\n",
    "plt.title('Proporción de Tipos de Llamadas', fontsize=16)\n",
    "plt.title('Proporción de Tipos de Llamadas', fontsize=16)"
   ]
  },
  {
   "cell_type": "markdown",
   "id": "478025c7-9cf3-4ebe-b429-c8caec6ded45",
   "metadata": {},
   "source": [
    "-Promedio de duración de la llamada (sin el tiempo de espera)"
   ]
  },
  {
   "cell_type": "code",
   "execution_count": 60,
   "id": "c544015c-4a29-47f3-ab77-afa8afc15529",
   "metadata": {},
   "outputs": [],
   "source": [
    "average_call_duration_by_operator = dataset_cleaned.groupby('operator_id')['call_duration'].mean().round(2)"
   ]
  },
  {
   "cell_type": "code",
   "execution_count": 61,
   "id": "2f76e6af-2d9e-4c46-9e08-a4f874773432",
   "metadata": {},
   "outputs": [],
   "source": [
    "average_call_duration_by_operator = average_call_duration_by_operator.reset_index()\n",
    "average_call_duration_by_operator.columns = ['operator_id', 'average_call_duration']"
   ]
  },
  {
   "cell_type": "code",
   "execution_count": 62,
   "id": "3b5680d3-6c6c-4394-becb-f8b10115f95b",
   "metadata": {},
   "outputs": [
    {
     "name": "stdout",
     "output_type": "stream",
     "text": [
      "      operator_id  average_call_duration\n",
      "0        879896.0                 545.83\n",
      "1        879898.0                1133.88\n",
      "2        880020.0                 112.25\n",
      "3        880022.0                 216.39\n",
      "4        880026.0                 842.45\n",
      "...           ...                    ...\n",
      "1087     972410.0                 944.25\n",
      "1088     972412.0                 699.60\n",
      "1089     972460.0                 174.00\n",
      "1090     973120.0                   2.50\n",
      "1091     973286.0                  17.00\n",
      "\n",
      "[1092 rows x 2 columns]\n"
     ]
    }
   ],
   "source": [
    "print(average_call_duration_by_operator)"
   ]
  },
  {
   "cell_type": "markdown",
   "id": "a550f355-a0cd-4787-9c0d-fadf3e0d71dc",
   "metadata": {},
   "source": [
    "-Cálculo del Tiempo de espera"
   ]
  },
  {
   "cell_type": "code",
   "execution_count": 63,
   "id": "b77ad898-2a1e-4766-b451-055bfdf6e2e2",
   "metadata": {},
   "outputs": [],
   "source": [
    "dataset_cleaned['wait_time'] = dataset_cleaned['total_call_duration'] - dataset_cleaned['call_duration']"
   ]
  },
  {
   "cell_type": "code",
   "execution_count": 64,
   "id": "2b748e6f-76c2-49c4-bc84-7b18607b5cd1",
   "metadata": {},
   "outputs": [
    {
     "name": "stdout",
     "output_type": "stream",
     "text": [
      "   total_call_duration  call_duration  wait_time\n",
      "1                    5              0          5\n",
      "2                    1              0          1\n",
      "3                   18             10          8\n",
      "4                   25              0         25\n",
      "5                   29              3         26\n"
     ]
    }
   ],
   "source": [
    "print(dataset_cleaned[['total_call_duration', 'call_duration', 'wait_time']].head())"
   ]
  },
  {
   "cell_type": "markdown",
   "id": "cc54ab48-4917-4ef1-9c90-57db9fe89d70",
   "metadata": {},
   "source": [
    "-Promedio de tiempo de espera por operador"
   ]
  },
  {
   "cell_type": "code",
   "execution_count": 65,
   "id": "dd4366fe-d110-440e-a92d-756bdf1a0766",
   "metadata": {},
   "outputs": [],
   "source": [
    "average_wait_time_per_operator = dataset_cleaned.groupby('operator_id')['wait_time'].mean().reset_index()"
   ]
  },
  {
   "cell_type": "code",
   "execution_count": 66,
   "id": "aa357b80-715b-4b00-8a33-c1b8cb45cc81",
   "metadata": {},
   "outputs": [],
   "source": [
    "average_wait_time_per_operator.columns = ['operator_id', 'avg_wait_time']"
   ]
  },
  {
   "cell_type": "code",
   "execution_count": 67,
   "id": "17606ec6-630f-4a9c-8970-8249edc8cfd2",
   "metadata": {},
   "outputs": [
    {
     "data": {
      "text/html": [
       "<div>\n",
       "<style scoped>\n",
       "    .dataframe tbody tr th:only-of-type {\n",
       "        vertical-align: middle;\n",
       "    }\n",
       "\n",
       "    .dataframe tbody tr th {\n",
       "        vertical-align: top;\n",
       "    }\n",
       "\n",
       "    .dataframe thead th {\n",
       "        text-align: right;\n",
       "    }\n",
       "</style>\n",
       "<table border=\"1\" class=\"dataframe\">\n",
       "  <thead>\n",
       "    <tr style=\"text-align: right;\">\n",
       "      <th></th>\n",
       "      <th>operator_id</th>\n",
       "      <th>avg_wait_time</th>\n",
       "    </tr>\n",
       "  </thead>\n",
       "  <tbody>\n",
       "    <tr>\n",
       "      <th>0</th>\n",
       "      <td>879896.0</td>\n",
       "      <td>104.914530</td>\n",
       "    </tr>\n",
       "    <tr>\n",
       "      <th>1</th>\n",
       "      <td>879898.0</td>\n",
       "      <td>457.696035</td>\n",
       "    </tr>\n",
       "    <tr>\n",
       "      <th>2</th>\n",
       "      <td>880020.0</td>\n",
       "      <td>14.000000</td>\n",
       "    </tr>\n",
       "    <tr>\n",
       "      <th>3</th>\n",
       "      <td>880022.0</td>\n",
       "      <td>53.971429</td>\n",
       "    </tr>\n",
       "    <tr>\n",
       "      <th>4</th>\n",
       "      <td>880026.0</td>\n",
       "      <td>121.978022</td>\n",
       "    </tr>\n",
       "    <tr>\n",
       "      <th>...</th>\n",
       "      <td>...</td>\n",
       "      <td>...</td>\n",
       "    </tr>\n",
       "    <tr>\n",
       "      <th>1087</th>\n",
       "      <td>972410.0</td>\n",
       "      <td>374.500000</td>\n",
       "    </tr>\n",
       "    <tr>\n",
       "      <th>1088</th>\n",
       "      <td>972412.0</td>\n",
       "      <td>210.000000</td>\n",
       "    </tr>\n",
       "    <tr>\n",
       "      <th>1089</th>\n",
       "      <td>972460.0</td>\n",
       "      <td>88.571429</td>\n",
       "    </tr>\n",
       "    <tr>\n",
       "      <th>1090</th>\n",
       "      <td>973120.0</td>\n",
       "      <td>10.000000</td>\n",
       "    </tr>\n",
       "    <tr>\n",
       "      <th>1091</th>\n",
       "      <td>973286.0</td>\n",
       "      <td>88.000000</td>\n",
       "    </tr>\n",
       "  </tbody>\n",
       "</table>\n",
       "<p>1092 rows × 2 columns</p>\n",
       "</div>"
      ],
      "text/plain": [
       "      operator_id  avg_wait_time\n",
       "0        879896.0     104.914530\n",
       "1        879898.0     457.696035\n",
       "2        880020.0      14.000000\n",
       "3        880022.0      53.971429\n",
       "4        880026.0     121.978022\n",
       "...           ...            ...\n",
       "1087     972410.0     374.500000\n",
       "1088     972412.0     210.000000\n",
       "1089     972460.0      88.571429\n",
       "1090     973120.0      10.000000\n",
       "1091     973286.0      88.000000\n",
       "\n",
       "[1092 rows x 2 columns]"
      ]
     },
     "execution_count": 67,
     "metadata": {},
     "output_type": "execute_result"
    }
   ],
   "source": [
    "average_wait_time_per_operator"
   ]
  },
  {
   "cell_type": "code",
   "execution_count": 68,
   "id": "0145eed8-772f-4aab-9fed-db962a3af168",
   "metadata": {},
   "outputs": [
    {
     "data": {
      "text/html": [
       "<div>\n",
       "<style scoped>\n",
       "    .dataframe tbody tr th:only-of-type {\n",
       "        vertical-align: middle;\n",
       "    }\n",
       "\n",
       "    .dataframe tbody tr th {\n",
       "        vertical-align: top;\n",
       "    }\n",
       "\n",
       "    .dataframe thead th {\n",
       "        text-align: right;\n",
       "    }\n",
       "</style>\n",
       "<table border=\"1\" class=\"dataframe\">\n",
       "  <thead>\n",
       "    <tr style=\"text-align: right;\">\n",
       "      <th></th>\n",
       "      <th>operator_id</th>\n",
       "      <th>avg_wait_time</th>\n",
       "    </tr>\n",
       "  </thead>\n",
       "  <tbody>\n",
       "    <tr>\n",
       "      <th>count</th>\n",
       "      <td>1092.000000</td>\n",
       "      <td>1092.000000</td>\n",
       "    </tr>\n",
       "    <tr>\n",
       "      <th>mean</th>\n",
       "      <td>925517.543956</td>\n",
       "      <td>216.086098</td>\n",
       "    </tr>\n",
       "    <tr>\n",
       "      <th>std</th>\n",
       "      <td>22854.532209</td>\n",
       "      <td>506.996689</td>\n",
       "    </tr>\n",
       "    <tr>\n",
       "      <th>min</th>\n",
       "      <td>879896.000000</td>\n",
       "      <td>0.000000</td>\n",
       "    </tr>\n",
       "    <tr>\n",
       "      <th>25%</th>\n",
       "      <td>906393.500000</td>\n",
       "      <td>23.000000</td>\n",
       "    </tr>\n",
       "    <tr>\n",
       "      <th>50%</th>\n",
       "      <td>925105.000000</td>\n",
       "      <td>46.619048</td>\n",
       "    </tr>\n",
       "    <tr>\n",
       "      <th>75%</th>\n",
       "      <td>944211.500000</td>\n",
       "      <td>159.758929</td>\n",
       "    </tr>\n",
       "    <tr>\n",
       "      <th>max</th>\n",
       "      <td>973286.000000</td>\n",
       "      <td>5805.027397</td>\n",
       "    </tr>\n",
       "  </tbody>\n",
       "</table>\n",
       "</div>"
      ],
      "text/plain": [
       "         operator_id  avg_wait_time\n",
       "count    1092.000000    1092.000000\n",
       "mean   925517.543956     216.086098\n",
       "std     22854.532209     506.996689\n",
       "min    879896.000000       0.000000\n",
       "25%    906393.500000      23.000000\n",
       "50%    925105.000000      46.619048\n",
       "75%    944211.500000     159.758929\n",
       "max    973286.000000    5805.027397"
      ]
     },
     "execution_count": 68,
     "metadata": {},
     "output_type": "execute_result"
    }
   ],
   "source": [
    "average_wait_time_per_operator.describe()"
   ]
  },
  {
   "cell_type": "markdown",
   "id": "94ba9c16-3193-4249-a675-5d5a7706a2fd",
   "metadata": {},
   "source": [
    "-Porcentaje de llamadas perdidas"
   ]
  },
  {
   "cell_type": "code",
   "execution_count": 69,
   "id": "1bef3cf8-5311-4ab5-9859-bd4bc1ab7cb1",
   "metadata": {},
   "outputs": [],
   "source": [
    "missed_calls = dataset_cleaned[dataset_cleaned['is_missed_call'] == True]['calls_count'].sum()"
   ]
  },
  {
   "cell_type": "code",
   "execution_count": 70,
   "id": "fdb104f4-9d08-473b-bede-0731d6eb96d1",
   "metadata": {},
   "outputs": [],
   "source": [
    "total_calls = dataset_cleaned['calls_count'].sum()"
   ]
  },
  {
   "cell_type": "code",
   "execution_count": 71,
   "id": "27124a37-8b0f-4ce4-8e34-9674a1a38f28",
   "metadata": {},
   "outputs": [],
   "source": [
    "missed_calls_percentage = (missed_calls / total_calls) * 100"
   ]
  },
  {
   "cell_type": "code",
   "execution_count": 72,
   "id": "f87df4e5-f273-4e9b-99f7-a55d0e93ef75",
   "metadata": {},
   "outputs": [
    {
     "name": "stdout",
     "output_type": "stream",
     "text": [
      "Porcentaje de llamadas perdidas: 38.78%\n"
     ]
    }
   ],
   "source": [
    "print(f\"Porcentaje de llamadas perdidas: {missed_calls_percentage:.2f}%\")"
   ]
  },
  {
   "cell_type": "markdown",
   "id": "6e789f60-495d-4c1f-8279-a53fb288a710",
   "metadata": {},
   "source": [
    "-Porcentaje de llamadas perdidas por operador"
   ]
  },
  {
   "cell_type": "code",
   "execution_count": 73,
   "id": "55055b9c-a049-4a67-b1ef-fd4a8135c880",
   "metadata": {},
   "outputs": [],
   "source": [
    "operator_calls = dataset_cleaned.groupby('operator_id', as_index=False).agg(\n",
    "    total_calls=('calls_count', 'sum'),\n",
    "    missed_calls=('is_missed_call', lambda x: (x == True).sum())\n",
    ")"
   ]
  },
  {
   "cell_type": "code",
   "execution_count": 74,
   "id": "e48f2335-2bec-4484-8347-18cded2e8e83",
   "metadata": {},
   "outputs": [],
   "source": [
    "operator_calls['missed_call_percentage_operator'] = (operator_calls['missed_calls'] / operator_calls['total_calls']) * 100"
   ]
  },
  {
   "cell_type": "code",
   "execution_count": 75,
   "id": "9228c960-cff7-48f2-9a89-492f85ff62ef",
   "metadata": {},
   "outputs": [
    {
     "data": {
      "text/html": [
       "<div>\n",
       "<style scoped>\n",
       "    .dataframe tbody tr th:only-of-type {\n",
       "        vertical-align: middle;\n",
       "    }\n",
       "\n",
       "    .dataframe tbody tr th {\n",
       "        vertical-align: top;\n",
       "    }\n",
       "\n",
       "    .dataframe thead th {\n",
       "        text-align: right;\n",
       "    }\n",
       "</style>\n",
       "<table border=\"1\" class=\"dataframe\">\n",
       "  <thead>\n",
       "    <tr style=\"text-align: right;\">\n",
       "      <th></th>\n",
       "      <th>operator_id</th>\n",
       "      <th>total_calls</th>\n",
       "      <th>missed_calls</th>\n",
       "      <th>missed_call_percentage_operator</th>\n",
       "    </tr>\n",
       "  </thead>\n",
       "  <tbody>\n",
       "    <tr>\n",
       "      <th>0</th>\n",
       "      <td>879896.0</td>\n",
       "      <td>930</td>\n",
       "      <td>47</td>\n",
       "      <td>5.053763</td>\n",
       "    </tr>\n",
       "    <tr>\n",
       "      <th>1</th>\n",
       "      <td>879898.0</td>\n",
       "      <td>7313</td>\n",
       "      <td>89</td>\n",
       "      <td>1.217011</td>\n",
       "    </tr>\n",
       "    <tr>\n",
       "      <th>2</th>\n",
       "      <td>880020.0</td>\n",
       "      <td>45</td>\n",
       "      <td>6</td>\n",
       "      <td>13.333333</td>\n",
       "    </tr>\n",
       "    <tr>\n",
       "      <th>3</th>\n",
       "      <td>880022.0</td>\n",
       "      <td>197</td>\n",
       "      <td>29</td>\n",
       "      <td>14.720812</td>\n",
       "    </tr>\n",
       "    <tr>\n",
       "      <th>4</th>\n",
       "      <td>880026.0</td>\n",
       "      <td>2232</td>\n",
       "      <td>87</td>\n",
       "      <td>3.897849</td>\n",
       "    </tr>\n",
       "    <tr>\n",
       "      <th>...</th>\n",
       "      <td>...</td>\n",
       "      <td>...</td>\n",
       "      <td>...</td>\n",
       "      <td>...</td>\n",
       "    </tr>\n",
       "    <tr>\n",
       "      <th>1087</th>\n",
       "      <td>972410.0</td>\n",
       "      <td>77</td>\n",
       "      <td>2</td>\n",
       "      <td>2.597403</td>\n",
       "    </tr>\n",
       "    <tr>\n",
       "      <th>1088</th>\n",
       "      <td>972412.0</td>\n",
       "      <td>61</td>\n",
       "      <td>2</td>\n",
       "      <td>3.278689</td>\n",
       "    </tr>\n",
       "    <tr>\n",
       "      <th>1089</th>\n",
       "      <td>972460.0</td>\n",
       "      <td>51</td>\n",
       "      <td>3</td>\n",
       "      <td>5.882353</td>\n",
       "    </tr>\n",
       "    <tr>\n",
       "      <th>1090</th>\n",
       "      <td>973120.0</td>\n",
       "      <td>3</td>\n",
       "      <td>1</td>\n",
       "      <td>33.333333</td>\n",
       "    </tr>\n",
       "    <tr>\n",
       "      <th>1091</th>\n",
       "      <td>973286.0</td>\n",
       "      <td>2</td>\n",
       "      <td>0</td>\n",
       "      <td>0.000000</td>\n",
       "    </tr>\n",
       "  </tbody>\n",
       "</table>\n",
       "<p>1092 rows × 4 columns</p>\n",
       "</div>"
      ],
      "text/plain": [
       "      operator_id  total_calls  missed_calls  missed_call_percentage_operator\n",
       "0        879896.0          930            47                         5.053763\n",
       "1        879898.0         7313            89                         1.217011\n",
       "2        880020.0           45             6                        13.333333\n",
       "3        880022.0          197            29                        14.720812\n",
       "4        880026.0         2232            87                         3.897849\n",
       "...           ...          ...           ...                              ...\n",
       "1087     972410.0           77             2                         2.597403\n",
       "1088     972412.0           61             2                         3.278689\n",
       "1089     972460.0           51             3                         5.882353\n",
       "1090     973120.0            3             1                        33.333333\n",
       "1091     973286.0            2             0                         0.000000\n",
       "\n",
       "[1092 rows x 4 columns]"
      ]
     },
     "execution_count": 75,
     "metadata": {},
     "output_type": "execute_result"
    }
   ],
   "source": [
    "operator_calls"
   ]
  },
  {
   "cell_type": "code",
   "execution_count": 76,
   "id": "304b40bf-ba90-4261-afd4-3caf9bb98a3c",
   "metadata": {},
   "outputs": [
    {
     "data": {
      "text/html": [
       "<div>\n",
       "<style scoped>\n",
       "    .dataframe tbody tr th:only-of-type {\n",
       "        vertical-align: middle;\n",
       "    }\n",
       "\n",
       "    .dataframe tbody tr th {\n",
       "        vertical-align: top;\n",
       "    }\n",
       "\n",
       "    .dataframe thead th {\n",
       "        text-align: right;\n",
       "    }\n",
       "</style>\n",
       "<table border=\"1\" class=\"dataframe\">\n",
       "  <thead>\n",
       "    <tr style=\"text-align: right;\">\n",
       "      <th></th>\n",
       "      <th>operator_id</th>\n",
       "      <th>total_calls</th>\n",
       "      <th>missed_calls</th>\n",
       "      <th>missed_call_percentage_operator</th>\n",
       "    </tr>\n",
       "  </thead>\n",
       "  <tbody>\n",
       "    <tr>\n",
       "      <th>count</th>\n",
       "      <td>1092.000000</td>\n",
       "      <td>1092.000000</td>\n",
       "      <td>1092.000000</td>\n",
       "      <td>1092.000000</td>\n",
       "    </tr>\n",
       "    <tr>\n",
       "      <th>mean</th>\n",
       "      <td>925517.543956</td>\n",
       "      <td>642.989927</td>\n",
       "      <td>12.921245</td>\n",
       "      <td>10.110073</td>\n",
       "    </tr>\n",
       "    <tr>\n",
       "      <th>std</th>\n",
       "      <td>22854.532209</td>\n",
       "      <td>2889.666021</td>\n",
       "      <td>18.394028</td>\n",
       "      <td>16.885686</td>\n",
       "    </tr>\n",
       "    <tr>\n",
       "      <th>min</th>\n",
       "      <td>879896.000000</td>\n",
       "      <td>1.000000</td>\n",
       "      <td>0.000000</td>\n",
       "      <td>0.000000</td>\n",
       "    </tr>\n",
       "    <tr>\n",
       "      <th>25%</th>\n",
       "      <td>906393.500000</td>\n",
       "      <td>10.000000</td>\n",
       "      <td>1.000000</td>\n",
       "      <td>0.830640</td>\n",
       "    </tr>\n",
       "    <tr>\n",
       "      <th>50%</th>\n",
       "      <td>925105.000000</td>\n",
       "      <td>72.000000</td>\n",
       "      <td>5.000000</td>\n",
       "      <td>4.365317</td>\n",
       "    </tr>\n",
       "    <tr>\n",
       "      <th>75%</th>\n",
       "      <td>944211.500000</td>\n",
       "      <td>493.750000</td>\n",
       "      <td>18.000000</td>\n",
       "      <td>12.102884</td>\n",
       "    </tr>\n",
       "    <tr>\n",
       "      <th>max</th>\n",
       "      <td>973286.000000</td>\n",
       "      <td>60221.000000</td>\n",
       "      <td>119.000000</td>\n",
       "      <td>100.000000</td>\n",
       "    </tr>\n",
       "  </tbody>\n",
       "</table>\n",
       "</div>"
      ],
      "text/plain": [
       "         operator_id   total_calls  missed_calls  \\\n",
       "count    1092.000000   1092.000000   1092.000000   \n",
       "mean   925517.543956    642.989927     12.921245   \n",
       "std     22854.532209   2889.666021     18.394028   \n",
       "min    879896.000000      1.000000      0.000000   \n",
       "25%    906393.500000     10.000000      1.000000   \n",
       "50%    925105.000000     72.000000      5.000000   \n",
       "75%    944211.500000    493.750000     18.000000   \n",
       "max    973286.000000  60221.000000    119.000000   \n",
       "\n",
       "       missed_call_percentage_operator  \n",
       "count                      1092.000000  \n",
       "mean                         10.110073  \n",
       "std                          16.885686  \n",
       "min                           0.000000  \n",
       "25%                           0.830640  \n",
       "50%                           4.365317  \n",
       "75%                          12.102884  \n",
       "max                         100.000000  "
      ]
     },
     "execution_count": 76,
     "metadata": {},
     "output_type": "execute_result"
    }
   ],
   "source": [
    "operator_calls.describe()"
   ]
  },
  {
   "cell_type": "markdown",
   "id": "db186790-642c-4a66-9ea3-e04a80fa2c84",
   "metadata": {},
   "source": [
    "-Visualización del desempeño de los operadores:"
   ]
  },
  {
   "cell_type": "code",
   "execution_count": 77,
   "id": "50f72d01-ab95-4686-a4de-e579bda1544c",
   "metadata": {},
   "outputs": [],
   "source": [
    "llamadas_perdidas_operador = operator_calls['missed_call_percentage_operator']\n",
    "promedio_tiempo_espera= average_wait_time_per_operator['avg_wait_time']\n",
    "total_llamadas_salientes = total_outcoming_calls_by_operator['total_outcoming_calls']"
   ]
  },
  {
   "cell_type": "code",
   "execution_count": 78,
   "id": "42d06dea-4c54-44af-8e36-7a0b350284d9",
   "metadata": {},
   "outputs": [],
   "source": [
    "desempeño_operadores = pd.DataFrame({\n",
    "    'Porcentaje_Perdidas': llamadas_perdidas_operador,\n",
    "    'Promedio_Tiempo_Espera': promedio_tiempo_espera,\n",
    "    'Volumen_Llamadas_Salientes': total_llamadas_salientes\n",
    "})"
   ]
  },
  {
   "cell_type": "code",
   "execution_count": 79,
   "id": "6d892379-804e-4adf-a970-b889a4a1c068",
   "metadata": {},
   "outputs": [
    {
     "data": {
      "image/png": "[encoded data removed]",
      "text/plain": [
       "<Figure size 1000x600 with 1 Axes>"
      ]
     },
     "metadata": {},
     "output_type": "display_data"
    }
   ],
   "source": [
    "desempeño_operadores[['Porcentaje_Perdidas', 'Promedio_Tiempo_Espera', 'Volumen_Llamadas_Salientes']].boxplot(figsize=(10, 6))\n",
    "plt.title('Distribución de Métricas por Operador')\n",
    "plt.ylabel('Valor')\n",
    "plt.xticks(rotation=45)\n",
    "plt.show()"
   ]
  },
  {
   "cell_type": "markdown",
   "id": "ce8cc606-3c3d-4fb4-a50f-639eba89f2c8",
   "metadata": {},
   "source": [
    "Observaciones: \n",
    "\n",
    "**Porcentaje de Pérdidas:**\n",
    "\n",
    "La mayoría de los operadores tienen un porcentaje de pérdidas relativamente bajo, cercano a cero.\n",
    "Sin embargo, hay un par de operadores con valores atípicos (outliers) significativamente más altos, lo que sugiere que podrían estar experimentando problemas de capacidad o eficiencia en la atención de llamadas.\n",
    "\n",
    "**Promedio de Tiempo de Espera:**\n",
    "\n",
    "Los tiempos de espera promedio varían considerablemente entre los operadores.\n",
    "Hay un grupo de operadores con tiempos de espera muy bajos, lo que indica una atención eficiente y rápida.\n",
    "Por otro lado, existe un grupo con tiempos de espera más elevados, lo que podría ser señal de congestión en las líneas o de problemas en la asignación de llamadas.\n",
    "\n",
    "**Volumen de Llamadas Salientes:**\n",
    "\n",
    "El volumen de llamadas salientes muestra una gran dispersión entre los operadores.\n",
    "Hay operadores con un volumen muy bajo de llamadas salientes, mientras que otros tienen un volumen significativamente más alto. Esta variabilidad puede deberse a diferentes roles o responsabilidades asignadas a cada operador."
   ]
  },
  {
   "cell_type": "markdown",
   "id": "01e36aae-7b59-4708-aa61-639643af8f46",
   "metadata": {},
   "source": [
    "# 3.Definición de Ineficacia de un operador"
   ]
  },
  {
   "cell_type": "markdown",
   "id": "fcdc2b1b-83df-4d10-97fc-6c267f0819c0",
   "metadata": {},
   "source": [
    "Definir los umbrales para evaluar la ineficacia de un operador puede lograrse estableciendo reglas basadas en los datos de distribución de cada métrica relevante: el porcentaje de llamadas perdidas, el promedio de tiempo de espera y las llamadas salientes.                                                \n",
    "\n",
    "**Porcentaje de llamadas perdidas (missed_call_percentage_operator)**\n",
    "Este indicador mide la capacidad del operador para manejar llamadas. Valores altos indican ineficiencia.                                                \n",
    "**Umbral bajo:** Operadores con un porcentaje de llamadas perdidas por debajo del 25% de los datos (percentil 25). En este caso: 0.83%.                 \n",
    "**Rango aceptable:** Operadores cuyo porcentaje está entre el percentil 25 y el percentil 75 (0.83% a 12.10%).                                          \n",
    "**Umbral alto (ineficaz):** Operadores con un porcentaje superior al percentil 75 (12.10%).                                                             \n",
    "Clasificación:\n",
    "Ineficaz: missed_call_percentage_operator > 12.10%\n",
    "\n",
    "**Promedio de tiempo de espera (avg_wait_time)**\n",
    "El tiempo promedio de espera es un indicador de la rapidez con que un operador maneja las llamadas.                                                     \n",
    "**Umbral bajo:** Tiempo por debajo del percentil 25 (23 segundos).                                                                                      \n",
    "**Rango aceptable:** Tiempo entre el percentil 25 y el percentil 75 (23 a 159.76 segundos).                                                             \n",
    "**Umbral alto (ineficaz):** Tiempo superior al percentil 75 (159.76 segundos).                                                                          \n",
    "Clasificación:                                                                                                                                          \n",
    "Ineficaz: avg_wait_time > 159.76 segundos                                                                                                               \n",
    "\n",
    "**Número de llamadas salientes (total_outcoming_calls)**                                                                                                \n",
    "Un número bajo de llamadas salientes puede indicar baja actividad o productividad del operador.                                                         \n",
    "**Umbral bajo (ineficaz):** Operadores con menos llamadas salientes que el percentil 25 (11 llamadas).                                                  \n",
    "**Rango aceptable:** Operadores con llamadas salientes entre el percentil 25 y el percentil 75 (11 a 597.25 llamadas).                                 \n",
    "**Umbral alto:** Operadores con más de 597.25 llamadas salientes.                                                                                       \n",
    "Clasificación:                                                                                                                                          \n",
    "Ineficaz: total_outcoming_calls < 11 llamadas                                                                                                           "
   ]
  },
  {
   "cell_type": "markdown",
   "id": "36423816-a5d8-4f6f-a2fd-f80570ae5c80",
   "metadata": {},
   "source": [
    "-Agrupar operadores por desempeño"
   ]
  },
  {
   "cell_type": "code",
   "execution_count": 80,
   "id": "5649c121-d35d-4385-a138-310519607cf4",
   "metadata": {},
   "outputs": [],
   "source": [
    "operator_calls['efficiency_status'] = 'Efficient' "
   ]
  },
  {
   "cell_type": "code",
   "execution_count": 81,
   "id": "938ba67d-82d4-47c7-8797-e734e76f4ebe",
   "metadata": {},
   "outputs": [],
   "source": [
    "operator_calls.loc[\n",
    "    (operator_calls['missed_call_percentage_operator'] > 12.10) |\n",
    "    (average_wait_time_per_operator['avg_wait_time'] > 159.76) |\n",
    "    (total_outcoming_calls_by_operator['total_outcoming_calls'] < 11),\n",
    "    'efficiency_status'\n",
    "] = 'Inefficient'"
   ]
  },
  {
   "cell_type": "code",
   "execution_count": 82,
   "id": "df88f45c-0b46-4bf0-94a5-611b0a5ea4a7",
   "metadata": {},
   "outputs": [],
   "source": [
    "efficient_operators = operator_calls[operator_calls['efficiency_status'] == 'Efficient']\n",
    "inefficient_operators = operator_calls[operator_calls['efficiency_status'] == 'Inefficient']"
   ]
  },
  {
   "cell_type": "code",
   "execution_count": 83,
   "id": "5955bf0e-6975-4136-868c-da7e626da2e5",
   "metadata": {},
   "outputs": [
    {
     "name": "stdout",
     "output_type": "stream",
     "text": [
      "Operadores eficientes:\n",
      "      operator_id  total_calls  missed_calls  missed_call_percentage_operator  \\\n",
      "0        879896.0          930            47                         5.053763   \n",
      "4        880026.0         2232            87                         3.897849   \n",
      "10       882680.0           99             3                         3.030303   \n",
      "11       882684.0         1274            54                         4.238619   \n",
      "16       883898.0            1             0                         0.000000   \n",
      "...           ...          ...           ...                              ...   \n",
      "1073     969600.0           19             0                         0.000000   \n",
      "1083     971100.0            3             0                         0.000000   \n",
      "1085     971354.0            6             0                         0.000000   \n",
      "1089     972460.0           51             3                         5.882353   \n",
      "1091     973286.0            2             0                         0.000000   \n",
      "\n",
      "     efficiency_status  \n",
      "0            Efficient  \n",
      "4            Efficient  \n",
      "10           Efficient  \n",
      "11           Efficient  \n",
      "16           Efficient  \n",
      "...                ...  \n",
      "1073         Efficient  \n",
      "1083         Efficient  \n",
      "1085         Efficient  \n",
      "1089         Efficient  \n",
      "1091         Efficient  \n",
      "\n",
      "[436 rows x 5 columns]\n",
      "\n",
      "Operadores ineficientes:\n",
      "      operator_id  total_calls  missed_calls  missed_call_percentage_operator  \\\n",
      "1        879898.0         7313            89                         1.217011   \n",
      "2        880020.0           45             6                        13.333333   \n",
      "3        880022.0          197            29                        14.720812   \n",
      "5        880028.0         2560            82                         3.203125   \n",
      "6        880240.0           47             7                        14.893617   \n",
      "...           ...          ...           ...                              ...   \n",
      "1084     971102.0           76             0                         0.000000   \n",
      "1086     972408.0            6             1                        16.666667   \n",
      "1087     972410.0           77             2                         2.597403   \n",
      "1088     972412.0           61             2                         3.278689   \n",
      "1090     973120.0            3             1                        33.333333   \n",
      "\n",
      "     efficiency_status  \n",
      "1          Inefficient  \n",
      "2          Inefficient  \n",
      "3          Inefficient  \n",
      "5          Inefficient  \n",
      "6          Inefficient  \n",
      "...                ...  \n",
      "1084       Inefficient  \n",
      "1086       Inefficient  \n",
      "1087       Inefficient  \n",
      "1088       Inefficient  \n",
      "1090       Inefficient  \n",
      "\n",
      "[656 rows x 5 columns]\n"
     ]
    }
   ],
   "source": [
    "print(\"Operadores eficientes:\")\n",
    "print(efficient_operators)\n",
    "\n",
    "print(\"\\nOperadores ineficientes:\")\n",
    "print(inefficient_operators)"
   ]
  },
  {
   "cell_type": "code",
   "execution_count": 84,
   "id": "371a580a-3efa-4fd4-8f5c-080fddbca0a1",
   "metadata": {},
   "outputs": [],
   "source": [
    "efficiency_counts = operator_calls['efficiency_status'].value_counts()"
   ]
  },
  {
   "cell_type": "markdown",
   "id": "99603223-d106-4640-bde3-d18569be6709",
   "metadata": {},
   "source": [
    "-Visualización de métricas de los operadores"
   ]
  },
  {
   "cell_type": "code",
   "execution_count": 85,
   "id": "a4fcc150-e140-4655-a030-57949796c496",
   "metadata": {},
   "outputs": [
    {
     "name": "stderr",
     "output_type": "stream",
     "text": [
      "C:\\Users\\AIMEE DGUEZ NIETO\\AppData\\Local\\Temp\\ipykernel_24296\\472192868.py:2: FutureWarning: \n",
      "\n",
      "Passing `palette` without assigning `hue` is deprecated and will be removed in v0.14.0. Assign the `x` variable to `hue` and set `legend=False` for the same effect.\n",
      "\n",
      "  sns.barplot(x=efficiency_counts.index, y=efficiency_counts.values, palette='viridis')\n"
     ]
    },
    {
     "data": {
      "image/png": "[encoded data removed]",
      "text/plain": [
       "<Figure size 800x500 with 1 Axes>"
      ]
     },
     "metadata": {},
     "output_type": "display_data"
    }
   ],
   "source": [
    "plt.figure(figsize=(8, 5))\n",
    "sns.barplot(x=efficiency_counts.index, y=efficiency_counts.values, palette='viridis')\n",
    "plt.title(\"Número de Operadores Eficientes e Ineficientes\")\n",
    "plt.xlabel(\"Estatus de Eficiencia\")\n",
    "plt.ylabel(\"Número de Operadores\")\n",
    "plt.show()"
   ]
  },
  {
   "cell_type": "markdown",
   "id": "3813216f-1cfa-41c8-8a95-b2fb86988180",
   "metadata": {},
   "source": [
    "La barra que representa a los operadores ineficientes es casi el doble de alta que la de los eficientes.Esto sugiere un posible problema de productividad o desempeño general dentro del equipo o proceso."
   ]
  },
  {
   "cell_type": "code",
   "execution_count": 86,
   "id": "5ba7b064-600e-4fc0-9829-82f1b7bf28d1",
   "metadata": {},
   "outputs": [],
   "source": [
    "merged_data = operator_calls.merge(dataset_cleaned, on='operator_id', how='inner')"
   ]
  },
  {
   "cell_type": "code",
   "execution_count": 87,
   "id": "e7881b1d-6047-4987-a5d4-e103bdd4eb7e",
   "metadata": {},
   "outputs": [],
   "source": [
    "client_operator = merged_data.merge(clientes, on='user_id', how='inner')"
   ]
  },
  {
   "cell_type": "code",
   "execution_count": 88,
   "id": "aa3e2d4f-bd80-45c0-acdc-a8c98f7323e0",
   "metadata": {},
   "outputs": [
    {
     "data": {
      "text/html": [
       "<div>\n",
       "<style scoped>\n",
       "    .dataframe tbody tr th:only-of-type {\n",
       "        vertical-align: middle;\n",
       "    }\n",
       "\n",
       "    .dataframe tbody tr th {\n",
       "        vertical-align: top;\n",
       "    }\n",
       "\n",
       "    .dataframe thead th {\n",
       "        text-align: right;\n",
       "    }\n",
       "</style>\n",
       "<table border=\"1\" class=\"dataframe\">\n",
       "  <thead>\n",
       "    <tr style=\"text-align: right;\">\n",
       "      <th></th>\n",
       "      <th>operator_id</th>\n",
       "      <th>total_calls</th>\n",
       "      <th>missed_calls</th>\n",
       "      <th>missed_call_percentage_operator</th>\n",
       "      <th>efficiency_status</th>\n",
       "      <th>user_id</th>\n",
       "      <th>date</th>\n",
       "      <th>direction</th>\n",
       "      <th>internal</th>\n",
       "      <th>is_missed_call</th>\n",
       "      <th>calls_count</th>\n",
       "      <th>call_duration</th>\n",
       "      <th>total_call_duration</th>\n",
       "      <th>wait_time</th>\n",
       "      <th>tariff_plan</th>\n",
       "      <th>date_start</th>\n",
       "    </tr>\n",
       "  </thead>\n",
       "  <tbody>\n",
       "    <tr>\n",
       "      <th>0</th>\n",
       "      <td>879896.0</td>\n",
       "      <td>930</td>\n",
       "      <td>47</td>\n",
       "      <td>5.053763</td>\n",
       "      <td>Efficient</td>\n",
       "      <td>166406</td>\n",
       "      <td>2019-08-02 00:00:00+03:00</td>\n",
       "      <td>out</td>\n",
       "      <td>False</td>\n",
       "      <td>True</td>\n",
       "      <td>8</td>\n",
       "      <td>0</td>\n",
       "      <td>139</td>\n",
       "      <td>139</td>\n",
       "      <td>B</td>\n",
       "      <td>2019-08-02</td>\n",
       "    </tr>\n",
       "    <tr>\n",
       "      <th>1</th>\n",
       "      <td>879896.0</td>\n",
       "      <td>930</td>\n",
       "      <td>47</td>\n",
       "      <td>5.053763</td>\n",
       "      <td>Efficient</td>\n",
       "      <td>166406</td>\n",
       "      <td>2019-08-02 00:00:00+03:00</td>\n",
       "      <td>out</td>\n",
       "      <td>True</td>\n",
       "      <td>False</td>\n",
       "      <td>2</td>\n",
       "      <td>24</td>\n",
       "      <td>36</td>\n",
       "      <td>12</td>\n",
       "      <td>B</td>\n",
       "      <td>2019-08-02</td>\n",
       "    </tr>\n",
       "    <tr>\n",
       "      <th>2</th>\n",
       "      <td>879896.0</td>\n",
       "      <td>930</td>\n",
       "      <td>47</td>\n",
       "      <td>5.053763</td>\n",
       "      <td>Efficient</td>\n",
       "      <td>166406</td>\n",
       "      <td>2019-08-02 00:00:00+03:00</td>\n",
       "      <td>out</td>\n",
       "      <td>False</td>\n",
       "      <td>False</td>\n",
       "      <td>3</td>\n",
       "      <td>7</td>\n",
       "      <td>110</td>\n",
       "      <td>103</td>\n",
       "      <td>B</td>\n",
       "      <td>2019-08-02</td>\n",
       "    </tr>\n",
       "    <tr>\n",
       "      <th>3</th>\n",
       "      <td>879896.0</td>\n",
       "      <td>930</td>\n",
       "      <td>47</td>\n",
       "      <td>5.053763</td>\n",
       "      <td>Efficient</td>\n",
       "      <td>166406</td>\n",
       "      <td>2019-08-03 00:00:00+03:00</td>\n",
       "      <td>out</td>\n",
       "      <td>False</td>\n",
       "      <td>False</td>\n",
       "      <td>3</td>\n",
       "      <td>48</td>\n",
       "      <td>113</td>\n",
       "      <td>65</td>\n",
       "      <td>B</td>\n",
       "      <td>2019-08-02</td>\n",
       "    </tr>\n",
       "    <tr>\n",
       "      <th>4</th>\n",
       "      <td>879896.0</td>\n",
       "      <td>930</td>\n",
       "      <td>47</td>\n",
       "      <td>5.053763</td>\n",
       "      <td>Efficient</td>\n",
       "      <td>166406</td>\n",
       "      <td>2019-08-03 00:00:00+03:00</td>\n",
       "      <td>in</td>\n",
       "      <td>False</td>\n",
       "      <td>False</td>\n",
       "      <td>1</td>\n",
       "      <td>6</td>\n",
       "      <td>15</td>\n",
       "      <td>9</td>\n",
       "      <td>B</td>\n",
       "      <td>2019-08-02</td>\n",
       "    </tr>\n",
       "    <tr>\n",
       "      <th>...</th>\n",
       "      <td>...</td>\n",
       "      <td>...</td>\n",
       "      <td>...</td>\n",
       "      <td>...</td>\n",
       "      <td>...</td>\n",
       "      <td>...</td>\n",
       "      <td>...</td>\n",
       "      <td>...</td>\n",
       "      <td>...</td>\n",
       "      <td>...</td>\n",
       "      <td>...</td>\n",
       "      <td>...</td>\n",
       "      <td>...</td>\n",
       "      <td>...</td>\n",
       "      <td>...</td>\n",
       "      <td>...</td>\n",
       "    </tr>\n",
       "    <tr>\n",
       "      <th>41541</th>\n",
       "      <td>972460.0</td>\n",
       "      <td>51</td>\n",
       "      <td>3</td>\n",
       "      <td>5.882353</td>\n",
       "      <td>Efficient</td>\n",
       "      <td>166940</td>\n",
       "      <td>2019-11-28 00:00:00+03:00</td>\n",
       "      <td>out</td>\n",
       "      <td>False</td>\n",
       "      <td>False</td>\n",
       "      <td>18</td>\n",
       "      <td>1089</td>\n",
       "      <td>1266</td>\n",
       "      <td>177</td>\n",
       "      <td>C</td>\n",
       "      <td>2019-08-26</td>\n",
       "    </tr>\n",
       "    <tr>\n",
       "      <th>41542</th>\n",
       "      <td>972460.0</td>\n",
       "      <td>51</td>\n",
       "      <td>3</td>\n",
       "      <td>5.882353</td>\n",
       "      <td>Efficient</td>\n",
       "      <td>166940</td>\n",
       "      <td>2019-11-28 00:00:00+03:00</td>\n",
       "      <td>out</td>\n",
       "      <td>False</td>\n",
       "      <td>True</td>\n",
       "      <td>21</td>\n",
       "      <td>0</td>\n",
       "      <td>281</td>\n",
       "      <td>281</td>\n",
       "      <td>C</td>\n",
       "      <td>2019-08-26</td>\n",
       "    </tr>\n",
       "    <tr>\n",
       "      <th>41543</th>\n",
       "      <td>973120.0</td>\n",
       "      <td>3</td>\n",
       "      <td>1</td>\n",
       "      <td>33.333333</td>\n",
       "      <td>Inefficient</td>\n",
       "      <td>167923</td>\n",
       "      <td>2019-11-27 00:00:00+03:00</td>\n",
       "      <td>out</td>\n",
       "      <td>False</td>\n",
       "      <td>True</td>\n",
       "      <td>2</td>\n",
       "      <td>0</td>\n",
       "      <td>1</td>\n",
       "      <td>1</td>\n",
       "      <td>C</td>\n",
       "      <td>2019-10-07</td>\n",
       "    </tr>\n",
       "    <tr>\n",
       "      <th>41544</th>\n",
       "      <td>973120.0</td>\n",
       "      <td>3</td>\n",
       "      <td>1</td>\n",
       "      <td>33.333333</td>\n",
       "      <td>Inefficient</td>\n",
       "      <td>167923</td>\n",
       "      <td>2019-11-27 00:00:00+03:00</td>\n",
       "      <td>out</td>\n",
       "      <td>False</td>\n",
       "      <td>False</td>\n",
       "      <td>1</td>\n",
       "      <td>5</td>\n",
       "      <td>24</td>\n",
       "      <td>19</td>\n",
       "      <td>C</td>\n",
       "      <td>2019-10-07</td>\n",
       "    </tr>\n",
       "    <tr>\n",
       "      <th>41545</th>\n",
       "      <td>973286.0</td>\n",
       "      <td>2</td>\n",
       "      <td>0</td>\n",
       "      <td>0.000000</td>\n",
       "      <td>Efficient</td>\n",
       "      <td>168579</td>\n",
       "      <td>2019-11-28 00:00:00+03:00</td>\n",
       "      <td>in</td>\n",
       "      <td>False</td>\n",
       "      <td>False</td>\n",
       "      <td>2</td>\n",
       "      <td>17</td>\n",
       "      <td>105</td>\n",
       "      <td>88</td>\n",
       "      <td>B</td>\n",
       "      <td>2019-10-31</td>\n",
       "    </tr>\n",
       "  </tbody>\n",
       "</table>\n",
       "<p>41546 rows × 16 columns</p>\n",
       "</div>"
      ],
      "text/plain": [
       "       operator_id  total_calls  missed_calls  \\\n",
       "0         879896.0          930            47   \n",
       "1         879896.0          930            47   \n",
       "2         879896.0          930            47   \n",
       "3         879896.0          930            47   \n",
       "4         879896.0          930            47   \n",
       "...            ...          ...           ...   \n",
       "41541     972460.0           51             3   \n",
       "41542     972460.0           51             3   \n",
       "41543     973120.0            3             1   \n",
       "41544     973120.0            3             1   \n",
       "41545     973286.0            2             0   \n",
       "\n",
       "       missed_call_percentage_operator efficiency_status  user_id  \\\n",
       "0                             5.053763         Efficient   166406   \n",
       "1                             5.053763         Efficient   166406   \n",
       "2                             5.053763         Efficient   166406   \n",
       "3                             5.053763         Efficient   166406   \n",
       "4                             5.053763         Efficient   166406   \n",
       "...                                ...               ...      ...   \n",
       "41541                         5.882353         Efficient   166940   \n",
       "41542                         5.882353         Efficient   166940   \n",
       "41543                        33.333333       Inefficient   167923   \n",
       "41544                        33.333333       Inefficient   167923   \n",
       "41545                         0.000000         Efficient   168579   \n",
       "\n",
       "                           date direction  internal  is_missed_call  \\\n",
       "0     2019-08-02 00:00:00+03:00       out     False            True   \n",
       "1     2019-08-02 00:00:00+03:00       out      True           False   \n",
       "2     2019-08-02 00:00:00+03:00       out     False           False   \n",
       "3     2019-08-03 00:00:00+03:00       out     False           False   \n",
       "4     2019-08-03 00:00:00+03:00        in     False           False   \n",
       "...                         ...       ...       ...             ...   \n",
       "41541 2019-11-28 00:00:00+03:00       out     False           False   \n",
       "41542 2019-11-28 00:00:00+03:00       out     False            True   \n",
       "41543 2019-11-27 00:00:00+03:00       out     False            True   \n",
       "41544 2019-11-27 00:00:00+03:00       out     False           False   \n",
       "41545 2019-11-28 00:00:00+03:00        in     False           False   \n",
       "\n",
       "       calls_count  call_duration  total_call_duration  wait_time tariff_plan  \\\n",
       "0                8              0                  139        139           B   \n",
       "1                2             24                   36         12           B   \n",
       "2                3              7                  110        103           B   \n",
       "3                3             48                  113         65           B   \n",
       "4                1              6                   15          9           B   \n",
       "...            ...            ...                  ...        ...         ...   \n",
       "41541           18           1089                 1266        177           C   \n",
       "41542           21              0                  281        281           C   \n",
       "41543            2              0                    1          1           C   \n",
       "41544            1              5                   24         19           C   \n",
       "41545            2             17                  105         88           B   \n",
       "\n",
       "      date_start  \n",
       "0     2019-08-02  \n",
       "1     2019-08-02  \n",
       "2     2019-08-02  \n",
       "3     2019-08-02  \n",
       "4     2019-08-02  \n",
       "...          ...  \n",
       "41541 2019-08-26  \n",
       "41542 2019-08-26  \n",
       "41543 2019-10-07  \n",
       "41544 2019-10-07  \n",
       "41545 2019-10-31  \n",
       "\n",
       "[41546 rows x 16 columns]"
      ]
     },
     "execution_count": 88,
     "metadata": {},
     "output_type": "execute_result"
    }
   ],
   "source": [
    "client_operator"
   ]
  },
  {
   "cell_type": "markdown",
   "id": "155f8c45-7bb8-473e-ae1b-9188f775d651",
   "metadata": {},
   "source": [
    "# Prueba de Hipótesis Estadísticas"
   ]
  },
  {
   "cell_type": "markdown",
   "id": "b50b7222-5a05-457d-9342-030810d929ef",
   "metadata": {},
   "source": [
    "**-Evaluar si los tiempos de espera están correlacionados con el porcentaje de llamadas perdidas.**"
   ]
  },
  {
   "cell_type": "markdown",
   "id": "990eb61d-989f-4685-85d0-bf18c49c768e",
   "metadata": {},
   "source": [
    "Hipótesis Nula (H₀):No hay correlación significativa entre los tiempos de espera y el porcentaje de llamadas perdidas.\n",
    "(Coeficiente de correlación = 0)"
   ]
  },
  {
   "cell_type": "markdown",
   "id": "c6cdfc31-cb8b-4b8d-a119-5bf16e4d2965",
   "metadata": {},
   "source": [
    "Hipótesis Alternativa (H₁):\n",
    "Existe una correlación significativa entre los tiempos de espera y el porcentaje de llamadas perdidas.\n",
    "(Coeficiente de correlación ≠ 0)"
   ]
  },
  {
   "cell_type": "markdown",
   "id": "4d3bd4b9-c1d9-4ee1-843d-38e823fd0cc0",
   "metadata": {},
   "source": [
    "Prueba levene"
   ]
  },
  {
   "cell_type": "code",
   "execution_count": 89,
   "id": "c80cba73-293c-43c3-93a3-466f222c0335",
   "metadata": {},
   "outputs": [
    {
     "name": "stdout",
     "output_type": "stream",
     "text": [
      "Estadístico de Levene: 148.80621327835092\n",
      "p-valor: 3.701150969786992e-33\n"
     ]
    }
   ],
   "source": [
    "stat, p_value = stats.levene(desempeño_operadores['Promedio_Tiempo_Espera'], desempeño_operadores['Porcentaje_Perdidas'])\n",
    "\n",
    "print(f\"Estadístico de Levene: {stat}\")\n",
    "print(f\"p-valor: {p_value}\")\n"
   ]
  },
  {
   "cell_type": "code",
   "execution_count": 90,
   "id": "8ff65552-7fc3-4da0-b047-842d6bd3baf4",
   "metadata": {},
   "outputs": [
    {
     "name": "stdout",
     "output_type": "stream",
     "text": [
      "Rechazamos H₀: Las varianzas no son iguales.\n"
     ]
    }
   ],
   "source": [
    "if p_value < 0.05:\n",
    "    print(\"Rechazamos H₀: Las varianzas no son iguales.\")\n",
    "else:\n",
    "    print(\"No se rechaza H₀: Las varianzas son iguales.\")"
   ]
  },
  {
   "cell_type": "markdown",
   "id": "1d024b9c-0932-4ad5-965e-f04b044382ae",
   "metadata": {},
   "source": [
    "Las varianzas entre los grupos comparados no son iguales, lo que implica que hay una gran variabilidad en al menos un grupo en términos de las métricas evaluadas (como tiempo de espera o porcentaje de llamadas perdidas)."
   ]
  },
  {
   "cell_type": "markdown",
   "id": "284f0716-2122-4495-83bf-ace80e9c1ba6",
   "metadata": {},
   "source": [
    "Prueba de Correlación"
   ]
  },
  {
   "cell_type": "code",
   "execution_count": 91,
   "id": "5cf012a8-71fd-47b6-88ca-e14ab34abbc2",
   "metadata": {},
   "outputs": [
    {
     "name": "stdout",
     "output_type": "stream",
     "text": [
      "Coeficiente de correlación de Spearman: -0.2820559244093409\n",
      "p-valor: 2.027639196627162e-21\n",
      "Rechazamos H₀: Existe una correlación significativa.\n"
     ]
    }
   ],
   "source": [
    "corr, p_value = stats.spearmanr(desempeño_operadores['Promedio_Tiempo_Espera'], desempeño_operadores['Porcentaje_Perdidas'])\n",
    "\n",
    "print(f\"Coeficiente de correlación de Spearman: {corr}\")\n",
    "print(f\"p-valor: {p_value}\")\n",
    "\n",
    "if p_value < 0.05:\n",
    "    print(\"Rechazamos H₀: Existe una correlación significativa.\")\n",
    "else:\n",
    "    print(\"No se rechaza H₀: No hay correlación significativa.\")\n"
   ]
  },
  {
   "cell_type": "markdown",
   "id": "9d1aebe8-e0e8-41db-b3ec-8f6525d62afe",
   "metadata": {},
   "source": [
    "Existe una correlación significativa entre las variables evaluadas, pero es débil. Esto significa que a medida que una variable aumenta, la otra tiende a disminuir ligeramente, aunque la relación no es muy fuerte.\n"
   ]
  },
  {
   "cell_type": "markdown",
   "id": "3fcc3d1e-d79c-4f35-8c06-3bee78c9358d",
   "metadata": {},
   "source": [
    "**-Analizar si las características del cliente (plan tarifario, antigüedad) afectan el desempeño de los operadores.**"
   ]
  },
  {
   "cell_type": "markdown",
   "id": "8d66902b-6573-445c-8bac-b8a3b629895d",
   "metadata": {},
   "source": [
    "-Plan tarifario (variable categórica)"
   ]
  },
  {
   "cell_type": "markdown",
   "id": "813fdd88-de3c-4880-b7b1-ee49a21b4ce2",
   "metadata": {},
   "source": [
    "H₀ (nula): No hay diferencia significativa en el desempeño de los operadores entre los diferentes planes tarifarios.                                     \n",
    "Hₐ (alternativa): Hay una diferencia significativa en el desempeño de los operadores entre los diferentes planes tarifarios."
   ]
  },
  {
   "cell_type": "code",
   "execution_count": 92,
   "id": "32824c49-98fb-4faa-ae17-d2de7ae47e9a",
   "metadata": {},
   "outputs": [],
   "source": [
    "grupo_plan_A = client_operator[client_operator['tariff_plan'] == 'A']['missed_call_percentage_operator']\n",
    "grupo_plan_B = client_operator[client_operator['tariff_plan'] == 'B']['missed_call_percentage_operator']\n",
    "grupo_plan_C = client_operator[client_operator['tariff_plan'] == 'C']['missed_call_percentage_operator']"
   ]
  },
  {
   "cell_type": "markdown",
   "id": "0f9ad961-e0c6-467c-91ad-41fdd2f1a0d4",
   "metadata": {},
   "source": [
    "-Grupo plan A Vs. Grupo plan B"
   ]
  },
  {
   "cell_type": "markdown",
   "id": "5da4c689-efce-44b2-a4ae-625e7da37169",
   "metadata": {},
   "source": [
    "Prueba levene"
   ]
  },
  {
   "cell_type": "code",
   "execution_count": 93,
   "id": "ad166e0e-0626-4a10-aa10-d96a8ecdaf6c",
   "metadata": {},
   "outputs": [
    {
     "name": "stdout",
     "output_type": "stream",
     "text": [
      "Prueba de Levene - Estadístico: 5.434587745289749, p-valor: 0.019749150928551434\n"
     ]
    }
   ],
   "source": [
    "stat_levene, p_levene = stats.levene(grupo_plan_A, grupo_plan_B)\n",
    "print(f\"Prueba de Levene - Estadístico: {stat_levene}, p-valor: {p_levene}\")"
   ]
  },
  {
   "cell_type": "code",
   "execution_count": 94,
   "id": "e0dafc43-1355-4ee4-856c-9f775a9acceb",
   "metadata": {},
   "outputs": [
    {
     "name": "stdout",
     "output_type": "stream",
     "text": [
      "Rechazamos H₀: Las varianzas no son iguales.\n"
     ]
    }
   ],
   "source": [
    "if p_levene < 0.05:\n",
    "    print(\"Rechazamos H₀: Las varianzas no son iguales.\")\n",
    "    equal_var = False\n",
    "else:\n",
    "    print(\"No se rechaza H₀: Las varianzas son iguales.\")\n",
    "    equal_var = True"
   ]
  },
  {
   "cell_type": "markdown",
   "id": "6ee634ec-136e-4bfc-9a23-d10bcc9b4ebc",
   "metadata": {},
   "source": [
    "Las varianzas en las métricas analizadas entre los clientes del plan A y del plan B son significativamente diferentes."
   ]
  },
  {
   "cell_type": "markdown",
   "id": "a9006b6c-433a-4c5d-b023-712bb57ff059",
   "metadata": {},
   "source": [
    "Prueba t"
   ]
  },
  {
   "cell_type": "code",
   "execution_count": 95,
   "id": "fcb19e32-a471-4c16-8363-91dbab8a5e20",
   "metadata": {},
   "outputs": [
    {
     "name": "stdout",
     "output_type": "stream",
     "text": [
      "Prueba t - Estadístico: -17.762754808482377, p-valor: 3.5229261684111656e-70\n"
     ]
    }
   ],
   "source": [
    "stat_t, p_t = stats.ttest_ind(grupo_plan_A, grupo_plan_B, equal_var=False)\n",
    "print(f\"Prueba t - Estadístico: {stat_t}, p-valor: {p_t}\")"
   ]
  },
  {
   "cell_type": "code",
   "execution_count": 96,
   "id": "c943a658-c3a4-4830-8fef-84c1326693a9",
   "metadata": {},
   "outputs": [
    {
     "name": "stdout",
     "output_type": "stream",
     "text": [
      "Rechazamos H₀: Hay una diferencia significativa entre los planes tarifarios.\n"
     ]
    }
   ],
   "source": [
    "if p_t < 0.05:\n",
    "    print(\"Rechazamos H₀: Hay una diferencia significativa entre los planes tarifarios.\")\n",
    "else:\n",
    "    print(\"No se rechaza H₀: No hay una diferencia significativa entre los planes tarifarios.\")"
   ]
  },
  {
   "cell_type": "markdown",
   "id": "42b794e2-9319-49f9-a6f0-5c8b71d02ca2",
   "metadata": {},
   "source": [
    "Los clientes de los planes A y B muestran diferencias significativas en la métrica promedio, lo cual podría implicar que el plan tarifario influye en el comportamiento o las características de los clientes."
   ]
  },
  {
   "cell_type": "markdown",
   "id": "8e340116-1e1a-4b71-8386-ab17fa40080f",
   "metadata": {},
   "source": [
    "-Grupo plan A Vs. Grupo plan C"
   ]
  },
  {
   "cell_type": "markdown",
   "id": "40735909-1c8c-4e63-b969-fcc0a988e55c",
   "metadata": {},
   "source": [
    "Prueba levene"
   ]
  },
  {
   "cell_type": "code",
   "execution_count": 97,
   "id": "e5d6665f-dd6b-4205-ad7b-926a2b510754",
   "metadata": {},
   "outputs": [
    {
     "name": "stdout",
     "output_type": "stream",
     "text": [
      "Prueba de Levene - Estadístico: 348.113962632116, p-valor: 3.332001841183377e-77\n"
     ]
    }
   ],
   "source": [
    "stat_levene, p_levene = stats.levene(grupo_plan_A, grupo_plan_C)\n",
    "print(f\"Prueba de Levene - Estadístico: {stat_levene}, p-valor: {p_levene}\")"
   ]
  },
  {
   "cell_type": "code",
   "execution_count": 98,
   "id": "defffd48-2f2b-4c07-ab4f-5c70ce67a467",
   "metadata": {},
   "outputs": [
    {
     "name": "stdout",
     "output_type": "stream",
     "text": [
      "Rechazamos H₀: Las varianzas no son iguales.\n"
     ]
    }
   ],
   "source": [
    "if p_levene < 0.05:\n",
    "    print(\"Rechazamos H₀: Las varianzas no son iguales.\")\n",
    "    equal_var = False\n",
    "else:\n",
    "    print(\"No se rechaza H₀: Las varianzas son iguales.\")\n",
    "    equal_var = True"
   ]
  },
  {
   "cell_type": "markdown",
   "id": "a9715f0c-3372-404e-b79e-7478bf438c28",
   "metadata": {},
   "source": [
    "Existe una diferencia significativa en las varianzas entre los grupos del plan A y del plan C. Esto indica que los datos dentro de cada grupo tienen dispersión distinta.\n"
   ]
  },
  {
   "cell_type": "markdown",
   "id": "75ceb1e4-0ce7-4113-90da-3eea0d3bfe57",
   "metadata": {},
   "source": [
    "Prueba t"
   ]
  },
  {
   "cell_type": "code",
   "execution_count": 99,
   "id": "ce8e9e33-cfd6-4d8b-8a24-a409c91f5784",
   "metadata": {},
   "outputs": [
    {
     "name": "stdout",
     "output_type": "stream",
     "text": [
      "Prueba t - Estadístico: 2.4128988140945795, p-valor: 0.015833455125519258\n"
     ]
    }
   ],
   "source": [
    "stat_t, p_t = stats.ttest_ind(grupo_plan_A, grupo_plan_C, equal_var=False)\n",
    "print(f\"Prueba t - Estadístico: {stat_t}, p-valor: {p_t}\")"
   ]
  },
  {
   "cell_type": "code",
   "execution_count": 100,
   "id": "7dd23f57-f0aa-4cbb-a83d-d585f7acf1f0",
   "metadata": {},
   "outputs": [
    {
     "name": "stdout",
     "output_type": "stream",
     "text": [
      "Rechazamos H₀: Hay una diferencia significativa entre los planes tarifarios.\n"
     ]
    }
   ],
   "source": [
    "if p_t < 0.05:\n",
    "    print(\"Rechazamos H₀: Hay una diferencia significativa entre los planes tarifarios.\")\n",
    "else:\n",
    "    print(\"No se rechaza H₀: No hay una diferencia significativa entre los planes tarifarios.\")"
   ]
  },
  {
   "cell_type": "markdown",
   "id": "f8892d25-4edf-4432-900b-526154cabf8d",
   "metadata": {},
   "source": [
    "Las métricas promedio de los grupos de clientes de los planes A y C son significativamente distintas."
   ]
  },
  {
   "cell_type": "markdown",
   "id": "9b55d7f4-1edb-4f09-baa3-6660698d670b",
   "metadata": {},
   "source": [
    "-Grupo plan B Vs. Grupo plan C"
   ]
  },
  {
   "cell_type": "markdown",
   "id": "59b2cdd1-2ab4-4f67-8a16-675765424eab",
   "metadata": {},
   "source": [
    "Prueba levene"
   ]
  },
  {
   "cell_type": "code",
   "execution_count": 101,
   "id": "340cacf6-10cf-4f61-a397-fda7fc7d90a7",
   "metadata": {},
   "outputs": [
    {
     "name": "stdout",
     "output_type": "stream",
     "text": [
      "Prueba de Levene - Estadístico: 268.0074115021131, p-valor: 5.695798893347163e-60\n"
     ]
    }
   ],
   "source": [
    "stat_levene, p_levene = stats.levene(grupo_plan_B, grupo_plan_C)\n",
    "print(f\"Prueba de Levene - Estadístico: {stat_levene}, p-valor: {p_levene}\")"
   ]
  },
  {
   "cell_type": "code",
   "execution_count": 102,
   "id": "59172b94-70bb-4c87-a0ff-d8410c3e697b",
   "metadata": {},
   "outputs": [
    {
     "name": "stdout",
     "output_type": "stream",
     "text": [
      "Rechazamos H₀: Las varianzas no son iguales.\n"
     ]
    }
   ],
   "source": [
    "if p_levene < 0.05:\n",
    "    print(\"Rechazamos H₀: Las varianzas no son iguales.\")\n",
    "    equal_var = False\n",
    "else:\n",
    "    print(\"No se rechaza H₀: Las varianzas son iguales.\")\n",
    "    equal_var = True"
   ]
  },
  {
   "cell_type": "markdown",
   "id": "e8f03722-aa0f-44b2-9eb4-43261fb72188",
   "metadata": {},
   "source": [
    "Existe una diferencia significativa en las varianzas entre los grupos del plan B y del plan C. Esto indica que los datos dentro de cada grupo tienen dispersión distinta."
   ]
  },
  {
   "cell_type": "markdown",
   "id": "420e9056-73cb-4c57-9acb-6d29aa2be16b",
   "metadata": {},
   "source": [
    "Prueba t"
   ]
  },
  {
   "cell_type": "code",
   "execution_count": 103,
   "id": "c46f4bcd-88e5-461b-81a7-fa7248918f34",
   "metadata": {},
   "outputs": [
    {
     "name": "stdout",
     "output_type": "stream",
     "text": [
      "Prueba t - Estadístico: 22.074665170488213, p-valor: 4.4747927080142717e-107\n"
     ]
    }
   ],
   "source": [
    "stat_t, p_t = stats.ttest_ind(grupo_plan_B, grupo_plan_C, equal_var=False)\n",
    "print(f\"Prueba t - Estadístico: {stat_t}, p-valor: {p_t}\")"
   ]
  },
  {
   "cell_type": "code",
   "execution_count": 104,
   "id": "c2ae8f15-c32e-4e7e-9255-7af4a482a3af",
   "metadata": {},
   "outputs": [
    {
     "name": "stdout",
     "output_type": "stream",
     "text": [
      "Rechazamos H₀: Hay una diferencia significativa entre los planes tarifarios.\n"
     ]
    }
   ],
   "source": [
    "if p_t < 0.05:\n",
    "    print(\"Rechazamos H₀: Hay una diferencia significativa entre los planes tarifarios.\")\n",
    "else:\n",
    "    print(\"No se rechaza H₀: No hay una diferencia significativa entre los planes tarifarios.\")"
   ]
  },
  {
   "cell_type": "markdown",
   "id": "e633fe1b-68fd-4876-af1e-a40ff60e1dd6",
   "metadata": {},
   "source": [
    "Las métricas promedio de los grupos de clientes de los planes B y C son significativamente distintas."
   ]
  },
  {
   "cell_type": "markdown",
   "id": "bec7bf4c-e20b-4ddf-9cd3-3d40a478f15c",
   "metadata": {},
   "source": [
    "-Antigüedad del cliente (variable numérica)"
   ]
  },
  {
   "cell_type": "markdown",
   "id": "a527da11-d94c-4717-a605-a11f1b752841",
   "metadata": {},
   "source": [
    "H₀ (nula): No hay diferencia significativa en el desempeño de los operadores según la antigüedad de los clientes.                                        \n",
    "Hₐ (alternativa): Hay una diferencia significativa en el desempeño de los operadores según la antigüedad de los clientes."
   ]
  },
  {
   "cell_type": "code",
   "execution_count": 105,
   "id": "44a9e02a-4a37-47f2-82dc-8d27c1f27bf5",
   "metadata": {},
   "outputs": [],
   "source": [
    "client_operator['antiguedad'] = (pd.Timestamp.now() - pd.to_datetime(clientes['date_start'])).dt.days"
   ]
  },
  {
   "cell_type": "code",
   "execution_count": 106,
   "id": "7742c68c-aada-4e5e-af28-c902963c5b24",
   "metadata": {},
   "outputs": [],
   "source": [
    "mediana_antiguedad = client_operator['antiguedad'].median()\n",
    "grupo_baja_antiguedad = client_operator[client_operator['antiguedad'] <= mediana_antiguedad]\n",
    "grupo_alta_antiguedad = client_operator[client_operator['antiguedad'] > mediana_antiguedad]"
   ]
  },
  {
   "cell_type": "code",
   "execution_count": 107,
   "id": "93379303-d22f-4355-b79b-0b3c6708c219",
   "metadata": {},
   "outputs": [],
   "source": [
    "grupo_baja = grupo_baja_antiguedad['missed_call_percentage_operator']\n",
    "grupo_alta = grupo_alta_antiguedad['missed_call_percentage_operator']"
   ]
  },
  {
   "cell_type": "markdown",
   "id": "ac7e2fe4-0094-488c-ab4e-a3ce33b6ae2b",
   "metadata": {},
   "source": [
    "Prueba Levene"
   ]
  },
  {
   "cell_type": "code",
   "execution_count": 108,
   "id": "5033828b-e2ef-42e3-a800-07deab780355",
   "metadata": {},
   "outputs": [
    {
     "name": "stdout",
     "output_type": "stream",
     "text": [
      "Prueba de Levene - Estadístico: 12.066151417228392, p-valor: 0.0005437432166815504\n"
     ]
    }
   ],
   "source": [
    "stat_levene, p_levene = stats.levene(grupo_baja, grupo_alta)\n",
    "print(f\"Prueba de Levene - Estadístico: {stat_levene}, p-valor: {p_levene}\")\n"
   ]
  },
  {
   "cell_type": "code",
   "execution_count": 109,
   "id": "5ae08116-480a-4bc8-8396-8c34e9f35270",
   "metadata": {},
   "outputs": [
    {
     "name": "stdout",
     "output_type": "stream",
     "text": [
      "Rechazamos H₀: Las varianzas no son iguales.\n"
     ]
    }
   ],
   "source": [
    "if p_levene < 0.05:\n",
    "    print(\"Rechazamos H₀: Las varianzas no son iguales.\")\n",
    "    equal_var = False\n",
    "else:\n",
    "    print(\"No se rechaza H₀: Las varianzas son iguales.\")\n",
    "    equal_var = True\n"
   ]
  },
  {
   "cell_type": "markdown",
   "id": "5b2693b0-659f-426e-89a9-5dade1a878de",
   "metadata": {},
   "source": [
    "Esto indica que las varianzas no son iguales entre los grupos de operadores según la antigüedad de los clientes. Es decir, existe una diferencia significativa en la dispersión de las métricas analizadas."
   ]
  },
  {
   "cell_type": "markdown",
   "id": "1f19566d-1ddf-48e7-8548-c69592ed5ba5",
   "metadata": {},
   "source": [
    "Prueba t"
   ]
  },
  {
   "cell_type": "code",
   "execution_count": 110,
   "id": "3a86f10a-4174-4217-bf82-942fa3932d45",
   "metadata": {},
   "outputs": [
    {
     "name": "stdout",
     "output_type": "stream",
     "text": [
      "Prueba t - Estadístico: -5.42565682924494, p-valor: 8.182491333731489e-08\n"
     ]
    }
   ],
   "source": [
    "stat_t, p_t = stats.ttest_ind(grupo_baja, grupo_alta, equal_var=equal_var)\n",
    "print(f\"Prueba t - Estadístico: {stat_t}, p-valor: {p_t}\")"
   ]
  },
  {
   "cell_type": "code",
   "execution_count": 111,
   "id": "30fd2421-7d13-4ce1-babd-1e0b74ba3132",
   "metadata": {},
   "outputs": [
    {
     "name": "stdout",
     "output_type": "stream",
     "text": [
      "Rechazamos H₀: Hay una diferencia significativa según la antigüedad del cliente.\n"
     ]
    }
   ],
   "source": [
    "if p_t < 0.05:\n",
    "    print(\"Rechazamos H₀: Hay una diferencia significativa según la antigüedad del cliente.\")\n",
    "else:\n",
    "    print(\"No se rechaza H₀: No hay una diferencia significativa según la antigüedad del cliente.\")"
   ]
  },
  {
   "cell_type": "markdown",
   "id": "324be345-f717-4425-9eea-44ade340fd81",
   "metadata": {},
   "source": [
    "El valor negativo del estadístico t sugiere que, en promedio, el desempeño de los operadores varía negativamente con la antigüedad del cliente (es decir, los operadores podrían estar desempeñándose peor con clientes más antiguos)."
   ]
  },
  {
   "cell_type": "markdown",
   "id": "ab00a919-2396-4202-baf1-ecef958b71b8",
   "metadata": {},
   "source": [
    "# Conclusiones y recomendaciones"
   ]
  },
  {
   "cell_type": "markdown",
   "id": "55bef07a-7f45-470e-8d5d-e7605b623931",
   "metadata": {},
   "source": [
    "**Conclusión del Proyecto**\n",
    "\n",
    "El análisis realizado permitió identificar factores clave que afectan el desempeño de los operadores, tomando en cuenta métricas específicas, características de los clientes y diferencias significativas en el comportamiento operativo. Las principales conclusiones son:\n",
    "\n",
    "**Distribución de llamadas y desempeño general de los operadores**\n",
    "\n",
    "El 86% de las llamadas realizadas por los operadores fueron salientes, mientras que el 13% fueron entrantes y solo el 0.8% internas.\n",
    "Se establecieron umbrales para clasificar a los operadores como eficientes o ineficientes. Los operadores ineficientes representan casi el doble de los eficientes, lo que señala un posible problema generalizado de productividad o desempeño en el equipo.\n",
    "\n",
    "**Correlación entre tiempos de espera y porcentaje de llamadas perdidas**\n",
    "\n",
    "Existe una correlación significativa, aunque débil, entre estas variables. Esto indica que los tiempos de espera y el porcentaje de llamadas perdidas están relacionados, pero no de manera fuerte o determinante.\n",
    "\n",
    "**Impacto de las características del cliente en el desempeño de los operadores**\n",
    "\n",
    "**Plan tarifario:** Se encontraron diferencias significativas en las varianzas y medias entre los diferentes planes tarifarios (A, B y C). Esto sugiere que el tipo de plan tarifario del cliente influye en el comportamiento y desempeño de los operadores.\n",
    "**Antigüedad del cliente:** La antigüedad del cliente afecta significativamente el desempeño de los operadores. Las diferencias en varianzas y promedios sugieren que los clientes más antiguos pueden tener necesidades específicas o estar sujetos a sesgos operativos.\n",
    "\n",
    "**Sugerencias y Recomendaciones**\n",
    "\n",
    "**Optimización del desempeño de los operadores**\n",
    "\n",
    "Implementar capacitaciones específicas para los operadores clasificados como ineficientes, enfocándose en la reducción de tiempos de espera y mejora en la atención a clientes.\n",
    "Introducir incentivos para los operadores eficientes y programas de monitoreo continuo que identifiquen áreas de mejora en tiempo real.\n",
    "\n",
    "**Reducción de tiempos de espera y llamadas perdidas**\n",
    "\n",
    "Revisar los flujos operativos y ajustar la distribución de carga laboral entre operadores para reducir el tiempo de espera en picos de alta demanda.\n",
    "Incorporar herramientas tecnológicas, como sistemas de respuesta automática, para atender llamadas entrantes rápidamente cuando no haya disponibilidad inmediata de operadores.\n",
    "\n",
    "**Plan tarifario y personalización del servicio**\n",
    "\n",
    "Analizar en mayor detalle las diferencias entre los planes tarifarios y ajustar las estrategias operativas según las características de cada grupo de clientes.Ofrecer capacitaciones específicas para que los operadores comprendan mejor las necesidades de los clientes según su plan tarifario.\n",
    "\n",
    "**Antigüedad del cliente**\n",
    "\n",
    "Realizar un análisis adicional sobre el impacto de la antigüedad de los clientes en las interacciones con los operadores. Esto podría incluir entrevistas o encuestas con clientes antiguos para identificar áreas de mejora en el servicio.\n",
    "Personalizar el trato hacia los clientes más antiguos, asegurándose de atender sus necesidades específicas y reducir cualquier posible sesgo.\n",
    "\n",
    "**Automatización y redistribución del trabajo**\n",
    "\n",
    "Implementar tecnologías de automatización en procesos operativos recurrentes para reducir la carga de trabajo manual en los operadores.\n",
    "Redistribuir las llamadas entrantes y salientes de manera más equitativa para garantizar una experiencia homogénea para los clientes de diferentes planes tarifarios.\n",
    "\n",
    "Con estas acciones, se espera no solo mejorar el desempeño de los operadores, sino también optimizar la experiencia del cliente y aumentar la eficiencia operativa general.\n",
    "\n",
    "\n",
    "\n",
    "\n",
    "\n",
    "\n",
    "\n"
   ]
  },
  {
   "cell_type": "markdown",
   "id": "16c3eaa1-ae3d-43fe-93a8-e40138da7401",
   "metadata": {},
   "source": [
    "# Fuentes Consultadas"
   ]
  },
  {
   "cell_type": "markdown",
   "id": "c5822359-3fd7-4e34-ab85-6cd68c34ba6c",
   "metadata": {},
   "source": [
    "**-Documentación sobre análisis exploratorio de datos**\n",
    "\n",
    "Pregunta: ¿Cuáles son las mejores prácticas para realizar un EDA en datasets grandes?\n",
    "\n",
    "Fuente: Towards Data Science. (n.d.). Exploratory Data Analysis. Recuperado de https://towardsdatascience.com\n",
    "\n",
    "**-Documentación oficial de pandas y matplotlib**\n",
    "\n",
    "Pregunta: ¿Cómo manipular y graficar datos eficientemente para analizar métricas específicas?\n",
    "\n",
    "Fuente: Pandas Development Team. (n.d.). pandas documentation. Recuperado de https://pandas.pydata.org/docs\n",
    "\n",
    "Matplotlib Development Team. (n.d.). Matplotlib documentation. Recuperado de https://matplotlib.org/stable/contents.html\n",
    "\n",
    "**-Artículos sobre métricas de efectividad en call centers**\n",
    "\n",
    "Pregunta: ¿Qué métricas son estándar para evaluar la efectividad de operadores?\n",
    "\n",
    "Fuente: Call Center Helper. (n.d.). Blog on call center metrics. Recuperado de https://www.callcentrehelper.com\n",
    "\n",
    "**-Documentación sobre clustering y clasificación**\n",
    "\n",
    "Pregunta: ¿Cómo identificar grupos o tendencias en datos de desempeño?\n",
    "\n",
    "Fuente: Analytics Vidhya. (n.d.). A Guide to Clustering in Python. Recuperado de https://www.analyticsvidhya.com\n",
    "\n",
    "**-Técnicas de prueba de hipótesis**\n",
    "\n",
    "Pregunta: ¿Qué métodos estadísticos son adecuados para validar relaciones entre variables?\n",
    "\n",
    "Fuente: Bruce, P., Bruce, A., & Gedeck, P. (2020). Practical Statistics for Data Scientists: 50+ Essential Concepts Using R and Python. O'Reilly Media.\n",
    "\n",
    "**-Investigación sobre análisis de datos en telecomunicaciones**\n",
    "\n",
    "Pregunta: ¿Cómo se utiliza el análisis de datos para optimizar operaciones en la industria de telecomunicaciones?\n",
    "\n",
    "Fuente: Springer. (n.d.). Data Analysis in Telecommunications. Recuperado de https://link.springer.com\n",
    "\n",
    "**-Uso de criterios de ineficiencia en operaciones**\n",
    "\n",
    "Pregunta: ¿Qué niveles de rendimiento se consideran bajos en términos de llamadas perdidas o tiempos de espera?\n",
    "\n",
    "Fuente: Deloitte. (n.d.). Reporte de métricas de call centers. Recuperado de https://www2.deloitte.com"
   ]
  }
 ],
 "metadata": {
  "kernelspec": {
   "display_name": "Python 3 (ipykernel)",
   "language": "python",
   "name": "python3"
  },
  "language_info": {
   "codemirror_mode": {
    "name": "ipython",
    "version": 3
   },
   "file_extension": ".py",
   "mimetype": "text/x-python",
   "name": "python",
   "nbconvert_exporter": "python",
   "pygments_lexer": "ipython3",
   "version": "3.12.4"
  }
 },
 "nbformat": 4,
 "nbformat_minor": 5
}
